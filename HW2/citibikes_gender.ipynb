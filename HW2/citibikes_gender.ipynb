{
  "nbformat": 4,
  "nbformat_minor": 0,
  "metadata": {
    "anaconda-cloud": {},
    "kernelspec": {
      "display_name": "Python 2",
      "language": "python",
      "name": "python2"
    },
    "language_info": {
      "codemirror_mode": {
        "name": "ipython",
        "version": 2
      },
      "file_extension": ".py",
      "mimetype": "text/x-python",
      "name": "python",
      "nbconvert_exporter": "python",
      "pygments_lexer": "ipython2",
      "version": "2.7.12"
    },
    "colab": {
      "name": "citibikes_gender.ipynb",
      "provenance": [],
      "include_colab_link": true
    }
  },
  "cells": [
    {
      "cell_type": "markdown",
      "metadata": {
        "id": "view-in-github",
        "colab_type": "text"
      },
      "source": [
        "<a href=\"https://colab.research.google.com/github/mmousavi2/PUS2024_MMousavi/blob/main/HW2/citibikes_gender.ipynb\" target=\"_parent\"><img src=\"https://colab.research.google.com/assets/colab-badge.svg\" alt=\"Open In Colab\"/></a>"
      ]
    },
    {
      "cell_type": "code",
      "metadata": {
        "id": "j0DWHUaMgPrC"
      },
      "source": [],
      "execution_count": null,
      "outputs": []
    },
    {
      "cell_type": "markdown",
      "metadata": {
        "id": "4aESq4aYc3Tw"
      },
      "source": [
        "# Written by Federica B. Bianco @fedhere\n",
        "# for UDel PUS\n",
        "# This is my example of Assignment 2.\n",
        "# Assignment 2 you should design your own investigation into the citibike data.\n",
        "- # Come up with a question about the Citibike data usage. It can be anything that involves Categorical data.\n",
        "At this point of the class it is easier to run tests of proportions or similar, and work with categorical data. Categorical cn be anhything that can be punt into classes (e.g. day/night, male/female, 2014/2015/2016.... as long as you set up your experiment the proper way!)\n",
        "- # Choose the significance threshold\n",
        "- # Clearly state they Null and Alternate hypothesis (in words and a math formula)\n",
        "- # Wrangle the data so that it is ready for your analysis.\n",
        "- # Explore the data statistical properties (mean, standard deviation...)\n",
        "- # Answer your question with a Z test\n",
        "- # Answer your question with a xhi square test of proportions"
      ]
    },
    {
      "cell_type": "code",
      "metadata": {
        "scrolled": true,
        "id": "LEcE6IScc3Tx",
        "colab": {
          "base_uri": "https://localhost:8080/"
        },
        "outputId": "13400290-7f66-4aef-9053-45cef0b51cc4"
      },
      "source": [
        "from __future__  import print_function, division\n",
        "import pylab as plt\n",
        "import pandas as pd\n",
        "import numpy as np\n",
        "\n",
        "%pylab inline\n"
      ],
      "execution_count": 34,
      "outputs": [
        {
          "output_type": "stream",
          "name": "stdout",
          "text": [
            "Populating the interactive namespace from numpy and matplotlib\n"
          ]
        },
        {
          "output_type": "stream",
          "name": "stderr",
          "text": [
            "/usr/local/lib/python3.10/dist-packages/IPython/core/magics/pylab.py:159: UserWarning: pylab import has clobbered these variables: ['plt']\n",
            "`%matplotlib` prevents importing * from pylab and numpy\n",
            "  warn(\"pylab import has clobbered these variables: %s\"  % clobbered +\n"
          ]
        }
      ]
    },
    {
      "cell_type": "markdown",
      "metadata": {
        "id": "V-bKj0Xjc3T5"
      },
      "source": [
        "# IDEA:\n",
        "## People that self-identify as women (_wome_ for short) are less likely than those who self-identified as men (_men_ for short) to choose biking _for commuting_ (intra week) than men\n",
        "\n",
        "# Data: citibikes collected information for each customer's trip including date, duration, start and destination. Customers are identified by user type: Subscriber and Commuter, gender (encoded as binary W/M), age (birth year). Tus the data supports the investigation of my \"theory\" (the idea) based on the folliwing Null Hypothesis\n",
        "\n",
        "# BUT: there is a different usage rate based on gender to begin with! so I cannot just test if more _men_ bike in the weekend than _women_ (because _men_ bike more on both weekend and week). I need to use fraction, or \"proportions\"\n",
        "\n",
        "# NULL HYPOTHESIS:\n",
        "## The proportion of _women_ biking on weekends is _less_ than the proportion of _men_ biking during the week\n",
        "\n",
        "## The proportion of _men_ biking on weekends is _the same_ or _higher_  than the proportion of _women_ biking on weekends\n",
        "\n",
        "# _$H_0$_ : $\\frac{W_{\\mathrm{weekend}}}{W_{\\mathrm{total}}} <= \\frac{M_{\\mathrm{weekend}}}{M_{\\mathrm{total}}}$\n",
        "# _$H_1$_ : $\\frac{W_{\\mathrm{weekend}}}{W_{\\mathrm{total}}} > \\frac{M_{\\mathrm{weekend}}}{M_{\\mathrm{total}}}$\n",
        "\n",
        "or identically:\n",
        "\n",
        "# _$H_0$_ : $\\frac{W_{\\mathrm{weekend}}}{W_{\\mathrm{total}}} - \\frac{M_{\\mathrm{weekend}}}{M_{\\mathrm{total}}} <= 0 $\n",
        "# _$H_1$_ : $\\frac{W_{\\mathrm{weekend}}}{W_{\\mathrm{total}}} - \\frac{M_{\\mathrm{weekend}}}{M_{\\mathrm{total}}} > 0$\n",
        "## I will use a significance level  $\\alpha=0.05$\n",
        "\n",
        "#### which means i want the probability of getting a result at least as significant as mine to be less then 5%\n",
        "\n",
        "# THIS IS NHRT REQUIRES A TEST FOR DIFFERENCE OF PROPORTIONS:\n",
        "Z test for unpaired data\n",
        "\n",
        "https://stats.libretexts.org/Bookshelves/Introductory_Statistics/Mostly_Harmless_Statistics_(Webb)/09:_Hypothesis_Tests_and_Confidence_Intervals_for_Two_Populations/9.03:_Two_Proportion_Z-Test_and_Confidence_Interval"
      ]
    },
    {
      "cell_type": "markdown",
      "metadata": {
        "id": "I-bfLntac3T7"
      },
      "source": [
        "## I am starting with a single month of data:  reading data from citibike csv file from May 2024\n",
        "\n",
        "what I want is the date and time of the beginning of each trip. pandas has an easy method to read csv files, and an easy method to convert strinds to dates.\n",
        "\n",
        "if i read a csv file with pandas the content is stored in a \"DataFrame\". You can think of it as a python dictionary in many ways,but it has many added capabilities: it is easy to convert variables within it, it knows how to plot itself, etc."
      ]
    },
    {
      "cell_type": "code",
      "source": [
        "\n",
        "import pandas as pd\n",
        "import zipfile\n",
        "import requests\n",
        "from io import BytesIO"
      ],
      "metadata": {
        "id": "Q0VkPnqdiPNS"
      },
      "execution_count": 35,
      "outputs": []
    },
    {
      "cell_type": "code",
      "source": [
        "\n",
        "datestring = '2019'\n",
        "\n",
        "# Define the URL of the zip file\n",
        "url = \"https://s3.amazonaws.com/tripdata/\" + datestring + \"-citibike-tripdata.zip\"\n",
        "\n",
        "# Download the zip file\n",
        "response = requests.get(url)\n",
        "zip_file = zipfile.ZipFile(BytesIO(response.content))\n",
        "\n"
      ],
      "metadata": {
        "id": "eIDITjcUikJg"
      },
      "execution_count": 36,
      "outputs": []
    },
    {
      "cell_type": "code",
      "source": [
        "zip_file.extractall() #extract all the files in the zipped folder locally"
      ],
      "metadata": {
        "id": "D8g6czYcramg"
      },
      "execution_count": 37,
      "outputs": []
    },
    {
      "cell_type": "markdown",
      "source": [
        "I am going to look in the now local files (extracted with the command above) to find what I want"
      ],
      "metadata": {
        "id": "ZJEVx1FIspGt"
      }
    },
    {
      "cell_type": "code",
      "source": [
        "!ls"
      ],
      "metadata": {
        "id": "5QhAQ7jir2KT",
        "outputId": "c9c34963-e480-4a88-db54-41cd3a62aa2b",
        "colab": {
          "base_uri": "https://localhost:8080/"
        }
      },
      "execution_count": 38,
      "outputs": [
        {
          "output_type": "stream",
          "name": "stdout",
          "text": [
            "2019-citibike-tripdata\t__MACOSX  sample_data\n"
          ]
        }
      ]
    },
    {
      "cell_type": "code",
      "source": [
        "!ls 2019-citibike-tripdata"
      ],
      "metadata": {
        "id": "wNuOo0qPrvbd",
        "outputId": "cb370163-9e9c-41d1-8773-714a1d830e07",
        "colab": {
          "base_uri": "https://localhost:8080/"
        }
      },
      "execution_count": 39,
      "outputs": [
        {
          "output_type": "stream",
          "name": "stdout",
          "text": [
            "10_October   12_December  2_February  4_April  6_June  8_August\n",
            "11_November  1_January\t  3_March     5_May    7_July  9_September\n"
          ]
        }
      ]
    },
    {
      "cell_type": "code",
      "source": [
        "!ls 2019-citibike-tripdata/5_May"
      ],
      "metadata": {
        "id": "cNe8-bkOr4K8",
        "outputId": "87bea835-585e-4fc6-a1da-2fd5080c03c8",
        "colab": {
          "base_uri": "https://localhost:8080/"
        }
      },
      "execution_count": 40,
      "outputs": [
        {
          "output_type": "stream",
          "name": "stdout",
          "text": [
            "201905-citibike-tripdata_1.csv\t201905-citibike-tripdata_2.csv\n"
          ]
        }
      ]
    },
    {
      "cell_type": "code",
      "source": [
        "# Read the CSV file from the zip file\n",
        "cbMay19 = pd.read_csv(datestring + '-citibike-tripdata/5_May/' + datestring + '05-citibike-tripdata_1.csv')"
      ],
      "metadata": {
        "id": "S3zaIpCor_j3"
      },
      "execution_count": 41,
      "outputs": []
    },
    {
      "cell_type": "code",
      "metadata": {
        "id": "c-Xh0btXc3UT",
        "colab": {
          "base_uri": "https://localhost:8080/",
          "height": 397
        },
        "outputId": "fd81e05c-2b4c-445f-d5e7-04a9600bbee2"
      },
      "source": [
        "cbMay19.head()"
      ],
      "execution_count": 42,
      "outputs": [
        {
          "output_type": "execute_result",
          "data": {
            "text/plain": [
              "   tripduration                 starttime                  stoptime  \\\n",
              "0           139  2019-05-01 00:00:01.9010  2019-05-01 00:02:21.5170   \n",
              "1           754  2019-05-01 00:00:03.0210  2019-05-01 00:12:37.6920   \n",
              "2          2308  2019-05-01 00:00:04.6270  2019-05-01 00:38:33.1710   \n",
              "3           143  2019-05-01 00:00:19.3340  2019-05-01 00:02:42.5200   \n",
              "4           138  2019-05-01 00:00:22.1840  2019-05-01 00:02:40.6480   \n",
              "\n",
              "   start station id         start station name  start station latitude  \\\n",
              "0               447            8 Ave & W 52 St               40.763707   \n",
              "1              3258           W 27 St & 10 Ave               40.750182   \n",
              "2              3093       N 6 St & Bedford Ave               40.717452   \n",
              "3              3486  Schermerhorn St & Bond St               40.688417   \n",
              "4               388           W 26 St & 10 Ave               40.749718   \n",
              "\n",
              "   start station longitude  end station id            end station name  \\\n",
              "0               -73.985162             423             W 54 St & 9 Ave   \n",
              "1               -74.002184            3255             8 Ave & W 31 St   \n",
              "2               -73.958509            3676  Van Brunt St & Van Dyke St   \n",
              "3               -73.984517            3412      Pacific St & Nevins St   \n",
              "4               -74.002950             494             W 26 St & 8 Ave   \n",
              "\n",
              "   end station latitude  end station longitude  bikeid    usertype  \\\n",
              "0             40.765849             -73.986905   31170  Subscriber   \n",
              "1             40.750585             -73.994685   25560    Customer   \n",
              "2             40.675833             -74.014726   33369  Subscriber   \n",
              "3             40.685376             -73.983021   32041  Subscriber   \n",
              "4             40.747348             -73.997236   35237  Subscriber   \n",
              "\n",
              "   birth year  gender  \n",
              "0        1983       1  \n",
              "1        1969       0  \n",
              "2        1978       1  \n",
              "3        1997       1  \n",
              "4        1967       1  "
            ],
            "text/html": [
              "\n",
              "  <div id=\"df-685acf86-8086-481b-bbd4-3025323989fb\" class=\"colab-df-container\">\n",
              "    <div>\n",
              "<style scoped>\n",
              "    .dataframe tbody tr th:only-of-type {\n",
              "        vertical-align: middle;\n",
              "    }\n",
              "\n",
              "    .dataframe tbody tr th {\n",
              "        vertical-align: top;\n",
              "    }\n",
              "\n",
              "    .dataframe thead th {\n",
              "        text-align: right;\n",
              "    }\n",
              "</style>\n",
              "<table border=\"1\" class=\"dataframe\">\n",
              "  <thead>\n",
              "    <tr style=\"text-align: right;\">\n",
              "      <th></th>\n",
              "      <th>tripduration</th>\n",
              "      <th>starttime</th>\n",
              "      <th>stoptime</th>\n",
              "      <th>start station id</th>\n",
              "      <th>start station name</th>\n",
              "      <th>start station latitude</th>\n",
              "      <th>start station longitude</th>\n",
              "      <th>end station id</th>\n",
              "      <th>end station name</th>\n",
              "      <th>end station latitude</th>\n",
              "      <th>end station longitude</th>\n",
              "      <th>bikeid</th>\n",
              "      <th>usertype</th>\n",
              "      <th>birth year</th>\n",
              "      <th>gender</th>\n",
              "    </tr>\n",
              "  </thead>\n",
              "  <tbody>\n",
              "    <tr>\n",
              "      <th>0</th>\n",
              "      <td>139</td>\n",
              "      <td>2019-05-01 00:00:01.9010</td>\n",
              "      <td>2019-05-01 00:02:21.5170</td>\n",
              "      <td>447</td>\n",
              "      <td>8 Ave &amp; W 52 St</td>\n",
              "      <td>40.763707</td>\n",
              "      <td>-73.985162</td>\n",
              "      <td>423</td>\n",
              "      <td>W 54 St &amp; 9 Ave</td>\n",
              "      <td>40.765849</td>\n",
              "      <td>-73.986905</td>\n",
              "      <td>31170</td>\n",
              "      <td>Subscriber</td>\n",
              "      <td>1983</td>\n",
              "      <td>1</td>\n",
              "    </tr>\n",
              "    <tr>\n",
              "      <th>1</th>\n",
              "      <td>754</td>\n",
              "      <td>2019-05-01 00:00:03.0210</td>\n",
              "      <td>2019-05-01 00:12:37.6920</td>\n",
              "      <td>3258</td>\n",
              "      <td>W 27 St &amp; 10 Ave</td>\n",
              "      <td>40.750182</td>\n",
              "      <td>-74.002184</td>\n",
              "      <td>3255</td>\n",
              "      <td>8 Ave &amp; W 31 St</td>\n",
              "      <td>40.750585</td>\n",
              "      <td>-73.994685</td>\n",
              "      <td>25560</td>\n",
              "      <td>Customer</td>\n",
              "      <td>1969</td>\n",
              "      <td>0</td>\n",
              "    </tr>\n",
              "    <tr>\n",
              "      <th>2</th>\n",
              "      <td>2308</td>\n",
              "      <td>2019-05-01 00:00:04.6270</td>\n",
              "      <td>2019-05-01 00:38:33.1710</td>\n",
              "      <td>3093</td>\n",
              "      <td>N 6 St &amp; Bedford Ave</td>\n",
              "      <td>40.717452</td>\n",
              "      <td>-73.958509</td>\n",
              "      <td>3676</td>\n",
              "      <td>Van Brunt St &amp; Van Dyke St</td>\n",
              "      <td>40.675833</td>\n",
              "      <td>-74.014726</td>\n",
              "      <td>33369</td>\n",
              "      <td>Subscriber</td>\n",
              "      <td>1978</td>\n",
              "      <td>1</td>\n",
              "    </tr>\n",
              "    <tr>\n",
              "      <th>3</th>\n",
              "      <td>143</td>\n",
              "      <td>2019-05-01 00:00:19.3340</td>\n",
              "      <td>2019-05-01 00:02:42.5200</td>\n",
              "      <td>3486</td>\n",
              "      <td>Schermerhorn St &amp; Bond St</td>\n",
              "      <td>40.688417</td>\n",
              "      <td>-73.984517</td>\n",
              "      <td>3412</td>\n",
              "      <td>Pacific St &amp; Nevins St</td>\n",
              "      <td>40.685376</td>\n",
              "      <td>-73.983021</td>\n",
              "      <td>32041</td>\n",
              "      <td>Subscriber</td>\n",
              "      <td>1997</td>\n",
              "      <td>1</td>\n",
              "    </tr>\n",
              "    <tr>\n",
              "      <th>4</th>\n",
              "      <td>138</td>\n",
              "      <td>2019-05-01 00:00:22.1840</td>\n",
              "      <td>2019-05-01 00:02:40.6480</td>\n",
              "      <td>388</td>\n",
              "      <td>W 26 St &amp; 10 Ave</td>\n",
              "      <td>40.749718</td>\n",
              "      <td>-74.002950</td>\n",
              "      <td>494</td>\n",
              "      <td>W 26 St &amp; 8 Ave</td>\n",
              "      <td>40.747348</td>\n",
              "      <td>-73.997236</td>\n",
              "      <td>35237</td>\n",
              "      <td>Subscriber</td>\n",
              "      <td>1967</td>\n",
              "      <td>1</td>\n",
              "    </tr>\n",
              "  </tbody>\n",
              "</table>\n",
              "</div>\n",
              "    <div class=\"colab-df-buttons\">\n",
              "\n",
              "  <div class=\"colab-df-container\">\n",
              "    <button class=\"colab-df-convert\" onclick=\"convertToInteractive('df-685acf86-8086-481b-bbd4-3025323989fb')\"\n",
              "            title=\"Convert this dataframe to an interactive table.\"\n",
              "            style=\"display:none;\">\n",
              "\n",
              "  <svg xmlns=\"http://www.w3.org/2000/svg\" height=\"24px\" viewBox=\"0 -960 960 960\">\n",
              "    <path d=\"M120-120v-720h720v720H120Zm60-500h600v-160H180v160Zm220 220h160v-160H400v160Zm0 220h160v-160H400v160ZM180-400h160v-160H180v160Zm440 0h160v-160H620v160ZM180-180h160v-160H180v160Zm440 0h160v-160H620v160Z\"/>\n",
              "  </svg>\n",
              "    </button>\n",
              "\n",
              "  <style>\n",
              "    .colab-df-container {\n",
              "      display:flex;\n",
              "      gap: 12px;\n",
              "    }\n",
              "\n",
              "    .colab-df-convert {\n",
              "      background-color: #E8F0FE;\n",
              "      border: none;\n",
              "      border-radius: 50%;\n",
              "      cursor: pointer;\n",
              "      display: none;\n",
              "      fill: #1967D2;\n",
              "      height: 32px;\n",
              "      padding: 0 0 0 0;\n",
              "      width: 32px;\n",
              "    }\n",
              "\n",
              "    .colab-df-convert:hover {\n",
              "      background-color: #E2EBFA;\n",
              "      box-shadow: 0px 1px 2px rgba(60, 64, 67, 0.3), 0px 1px 3px 1px rgba(60, 64, 67, 0.15);\n",
              "      fill: #174EA6;\n",
              "    }\n",
              "\n",
              "    .colab-df-buttons div {\n",
              "      margin-bottom: 4px;\n",
              "    }\n",
              "\n",
              "    [theme=dark] .colab-df-convert {\n",
              "      background-color: #3B4455;\n",
              "      fill: #D2E3FC;\n",
              "    }\n",
              "\n",
              "    [theme=dark] .colab-df-convert:hover {\n",
              "      background-color: #434B5C;\n",
              "      box-shadow: 0px 1px 3px 1px rgba(0, 0, 0, 0.15);\n",
              "      filter: drop-shadow(0px 1px 2px rgba(0, 0, 0, 0.3));\n",
              "      fill: #FFFFFF;\n",
              "    }\n",
              "  </style>\n",
              "\n",
              "    <script>\n",
              "      const buttonEl =\n",
              "        document.querySelector('#df-685acf86-8086-481b-bbd4-3025323989fb button.colab-df-convert');\n",
              "      buttonEl.style.display =\n",
              "        google.colab.kernel.accessAllowed ? 'block' : 'none';\n",
              "\n",
              "      async function convertToInteractive(key) {\n",
              "        const element = document.querySelector('#df-685acf86-8086-481b-bbd4-3025323989fb');\n",
              "        const dataTable =\n",
              "          await google.colab.kernel.invokeFunction('convertToInteractive',\n",
              "                                                    [key], {});\n",
              "        if (!dataTable) return;\n",
              "\n",
              "        const docLinkHtml = 'Like what you see? Visit the ' +\n",
              "          '<a target=\"_blank\" href=https://colab.research.google.com/notebooks/data_table.ipynb>data table notebook</a>'\n",
              "          + ' to learn more about interactive tables.';\n",
              "        element.innerHTML = '';\n",
              "        dataTable['output_type'] = 'display_data';\n",
              "        await google.colab.output.renderOutput(dataTable, element);\n",
              "        const docLink = document.createElement('div');\n",
              "        docLink.innerHTML = docLinkHtml;\n",
              "        element.appendChild(docLink);\n",
              "      }\n",
              "    </script>\n",
              "  </div>\n",
              "\n",
              "\n",
              "<div id=\"df-a2f6c029-c953-4970-9b1c-d06db2a71035\">\n",
              "  <button class=\"colab-df-quickchart\" onclick=\"quickchart('df-a2f6c029-c953-4970-9b1c-d06db2a71035')\"\n",
              "            title=\"Suggest charts\"\n",
              "            style=\"display:none;\">\n",
              "\n",
              "<svg xmlns=\"http://www.w3.org/2000/svg\" height=\"24px\"viewBox=\"0 0 24 24\"\n",
              "     width=\"24px\">\n",
              "    <g>\n",
              "        <path d=\"M19 3H5c-1.1 0-2 .9-2 2v14c0 1.1.9 2 2 2h14c1.1 0 2-.9 2-2V5c0-1.1-.9-2-2-2zM9 17H7v-7h2v7zm4 0h-2V7h2v10zm4 0h-2v-4h2v4z\"/>\n",
              "    </g>\n",
              "</svg>\n",
              "  </button>\n",
              "\n",
              "<style>\n",
              "  .colab-df-quickchart {\n",
              "      --bg-color: #E8F0FE;\n",
              "      --fill-color: #1967D2;\n",
              "      --hover-bg-color: #E2EBFA;\n",
              "      --hover-fill-color: #174EA6;\n",
              "      --disabled-fill-color: #AAA;\n",
              "      --disabled-bg-color: #DDD;\n",
              "  }\n",
              "\n",
              "  [theme=dark] .colab-df-quickchart {\n",
              "      --bg-color: #3B4455;\n",
              "      --fill-color: #D2E3FC;\n",
              "      --hover-bg-color: #434B5C;\n",
              "      --hover-fill-color: #FFFFFF;\n",
              "      --disabled-bg-color: #3B4455;\n",
              "      --disabled-fill-color: #666;\n",
              "  }\n",
              "\n",
              "  .colab-df-quickchart {\n",
              "    background-color: var(--bg-color);\n",
              "    border: none;\n",
              "    border-radius: 50%;\n",
              "    cursor: pointer;\n",
              "    display: none;\n",
              "    fill: var(--fill-color);\n",
              "    height: 32px;\n",
              "    padding: 0;\n",
              "    width: 32px;\n",
              "  }\n",
              "\n",
              "  .colab-df-quickchart:hover {\n",
              "    background-color: var(--hover-bg-color);\n",
              "    box-shadow: 0 1px 2px rgba(60, 64, 67, 0.3), 0 1px 3px 1px rgba(60, 64, 67, 0.15);\n",
              "    fill: var(--button-hover-fill-color);\n",
              "  }\n",
              "\n",
              "  .colab-df-quickchart-complete:disabled,\n",
              "  .colab-df-quickchart-complete:disabled:hover {\n",
              "    background-color: var(--disabled-bg-color);\n",
              "    fill: var(--disabled-fill-color);\n",
              "    box-shadow: none;\n",
              "  }\n",
              "\n",
              "  .colab-df-spinner {\n",
              "    border: 2px solid var(--fill-color);\n",
              "    border-color: transparent;\n",
              "    border-bottom-color: var(--fill-color);\n",
              "    animation:\n",
              "      spin 1s steps(1) infinite;\n",
              "  }\n",
              "\n",
              "  @keyframes spin {\n",
              "    0% {\n",
              "      border-color: transparent;\n",
              "      border-bottom-color: var(--fill-color);\n",
              "      border-left-color: var(--fill-color);\n",
              "    }\n",
              "    20% {\n",
              "      border-color: transparent;\n",
              "      border-left-color: var(--fill-color);\n",
              "      border-top-color: var(--fill-color);\n",
              "    }\n",
              "    30% {\n",
              "      border-color: transparent;\n",
              "      border-left-color: var(--fill-color);\n",
              "      border-top-color: var(--fill-color);\n",
              "      border-right-color: var(--fill-color);\n",
              "    }\n",
              "    40% {\n",
              "      border-color: transparent;\n",
              "      border-right-color: var(--fill-color);\n",
              "      border-top-color: var(--fill-color);\n",
              "    }\n",
              "    60% {\n",
              "      border-color: transparent;\n",
              "      border-right-color: var(--fill-color);\n",
              "    }\n",
              "    80% {\n",
              "      border-color: transparent;\n",
              "      border-right-color: var(--fill-color);\n",
              "      border-bottom-color: var(--fill-color);\n",
              "    }\n",
              "    90% {\n",
              "      border-color: transparent;\n",
              "      border-bottom-color: var(--fill-color);\n",
              "    }\n",
              "  }\n",
              "</style>\n",
              "\n",
              "  <script>\n",
              "    async function quickchart(key) {\n",
              "      const quickchartButtonEl =\n",
              "        document.querySelector('#' + key + ' button');\n",
              "      quickchartButtonEl.disabled = true;  // To prevent multiple clicks.\n",
              "      quickchartButtonEl.classList.add('colab-df-spinner');\n",
              "      try {\n",
              "        const charts = await google.colab.kernel.invokeFunction(\n",
              "            'suggestCharts', [key], {});\n",
              "      } catch (error) {\n",
              "        console.error('Error during call to suggestCharts:', error);\n",
              "      }\n",
              "      quickchartButtonEl.classList.remove('colab-df-spinner');\n",
              "      quickchartButtonEl.classList.add('colab-df-quickchart-complete');\n",
              "    }\n",
              "    (() => {\n",
              "      let quickchartButtonEl =\n",
              "        document.querySelector('#df-a2f6c029-c953-4970-9b1c-d06db2a71035 button');\n",
              "      quickchartButtonEl.style.display =\n",
              "        google.colab.kernel.accessAllowed ? 'block' : 'none';\n",
              "    })();\n",
              "  </script>\n",
              "</div>\n",
              "\n",
              "    </div>\n",
              "  </div>\n"
            ],
            "application/vnd.google.colaboratory.intrinsic+json": {
              "type": "dataframe",
              "variable_name": "cbMay19"
            }
          },
          "metadata": {},
          "execution_count": 42
        }
      ]
    },
    {
      "cell_type": "code",
      "source": [
        "cbMay19"
      ],
      "metadata": {
        "id": "Gr5GNeixCyso",
        "outputId": "4fecc6db-3e99-4812-945d-bafb96341e02",
        "colab": {
          "base_uri": "https://localhost:8080/",
          "height": 738
        }
      },
      "execution_count": 43,
      "outputs": [
        {
          "output_type": "execute_result",
          "data": {
            "text/plain": [
              "        tripduration                 starttime                  stoptime  \\\n",
              "0                139  2019-05-01 00:00:01.9010  2019-05-01 00:02:21.5170   \n",
              "1                754  2019-05-01 00:00:03.0210  2019-05-01 00:12:37.6920   \n",
              "2               2308  2019-05-01 00:00:04.6270  2019-05-01 00:38:33.1710   \n",
              "3                143  2019-05-01 00:00:19.3340  2019-05-01 00:02:42.5200   \n",
              "4                138  2019-05-01 00:00:22.1840  2019-05-01 00:02:40.6480   \n",
              "...              ...                       ...                       ...   \n",
              "999995          1688  2019-05-18 10:43:11.5260  2019-05-18 11:11:20.5010   \n",
              "999996           804  2019-05-18 10:43:12.1750  2019-05-18 10:56:37.0660   \n",
              "999997           150  2019-05-18 10:43:12.6190  2019-05-18 10:45:42.7890   \n",
              "999998           345  2019-05-18 10:43:13.2630  2019-05-18 10:48:58.7550   \n",
              "999999          1413  2019-05-18 10:43:13.8940  2019-05-18 11:06:47.5840   \n",
              "\n",
              "        start station id             start station name  \\\n",
              "0                    447                8 Ave & W 52 St   \n",
              "1                   3258               W 27 St & 10 Ave   \n",
              "2                   3093           N 6 St & Bedford Ave   \n",
              "3                   3486      Schermerhorn St & Bond St   \n",
              "4                    388               W 26 St & 10 Ave   \n",
              "...                  ...                            ...   \n",
              "999995               525               W 34 St & 11 Ave   \n",
              "999996              3576       Park Pl & Vanderbilt Ave   \n",
              "999997               416  Cumberland St & Lafayette Ave   \n",
              "999998               296           Division St & Bowery   \n",
              "999999              3528           Steinway St & 23 Ave   \n",
              "\n",
              "        start station latitude  start station longitude  end station id  \\\n",
              "0                    40.763707               -73.985162             423   \n",
              "1                    40.750182               -74.002184            3255   \n",
              "2                    40.717452               -73.958509            3676   \n",
              "3                    40.688417               -73.984517            3412   \n",
              "4                    40.749718               -74.002950             494   \n",
              "...                        ...                      ...             ...   \n",
              "999995               40.755942               -74.002116            3178   \n",
              "999996               40.676700               -73.969024             157   \n",
              "999997               40.687534               -73.972652             262   \n",
              "999998               40.714131               -73.997047             502   \n",
              "999999               40.771394               -73.907744            3126   \n",
              "\n",
              "                  end station name  end station latitude  \\\n",
              "0                  W 54 St & 9 Ave             40.765849   \n",
              "1                  8 Ave & W 31 St             40.750585   \n",
              "2       Van Brunt St & Van Dyke St             40.675833   \n",
              "3           Pacific St & Nevins St             40.685376   \n",
              "4                  W 26 St & 8 Ave             40.747348   \n",
              "...                            ...                   ...   \n",
              "999995      Riverside Dr & W 78 St             40.784145   \n",
              "999996     Henry St & Atlantic Ave             40.690893   \n",
              "999997             Washington Park             40.691782   \n",
              "999998         Henry St & Grand St             40.714215   \n",
              "999999         44 Dr & Jackson Ave             40.747182   \n",
              "\n",
              "        end station longitude  bikeid    usertype  birth year  gender  \n",
              "0                  -73.986905   31170  Subscriber        1983       1  \n",
              "1                  -73.994685   25560    Customer        1969       0  \n",
              "2                  -74.014726   33369  Subscriber        1978       1  \n",
              "3                  -73.983021   32041  Subscriber        1997       1  \n",
              "4                  -73.997236   35237  Subscriber        1967       1  \n",
              "...                       ...     ...         ...         ...     ...  \n",
              "999995             -73.983625   25733    Customer        1969       0  \n",
              "999996             -73.996123   29920  Subscriber        1981       1  \n",
              "999997             -73.973730   18835  Subscriber        1971       1  \n",
              "999998             -73.981346   34018  Subscriber        1983       1  \n",
              "999999             -73.943264   14576  Subscriber        1980       1  \n",
              "\n",
              "[1000000 rows x 15 columns]"
            ],
            "text/html": [
              "\n",
              "  <div id=\"df-887d5bbb-7d03-4513-a4b1-257aa1d49ecb\" class=\"colab-df-container\">\n",
              "    <div>\n",
              "<style scoped>\n",
              "    .dataframe tbody tr th:only-of-type {\n",
              "        vertical-align: middle;\n",
              "    }\n",
              "\n",
              "    .dataframe tbody tr th {\n",
              "        vertical-align: top;\n",
              "    }\n",
              "\n",
              "    .dataframe thead th {\n",
              "        text-align: right;\n",
              "    }\n",
              "</style>\n",
              "<table border=\"1\" class=\"dataframe\">\n",
              "  <thead>\n",
              "    <tr style=\"text-align: right;\">\n",
              "      <th></th>\n",
              "      <th>tripduration</th>\n",
              "      <th>starttime</th>\n",
              "      <th>stoptime</th>\n",
              "      <th>start station id</th>\n",
              "      <th>start station name</th>\n",
              "      <th>start station latitude</th>\n",
              "      <th>start station longitude</th>\n",
              "      <th>end station id</th>\n",
              "      <th>end station name</th>\n",
              "      <th>end station latitude</th>\n",
              "      <th>end station longitude</th>\n",
              "      <th>bikeid</th>\n",
              "      <th>usertype</th>\n",
              "      <th>birth year</th>\n",
              "      <th>gender</th>\n",
              "    </tr>\n",
              "  </thead>\n",
              "  <tbody>\n",
              "    <tr>\n",
              "      <th>0</th>\n",
              "      <td>139</td>\n",
              "      <td>2019-05-01 00:00:01.9010</td>\n",
              "      <td>2019-05-01 00:02:21.5170</td>\n",
              "      <td>447</td>\n",
              "      <td>8 Ave &amp; W 52 St</td>\n",
              "      <td>40.763707</td>\n",
              "      <td>-73.985162</td>\n",
              "      <td>423</td>\n",
              "      <td>W 54 St &amp; 9 Ave</td>\n",
              "      <td>40.765849</td>\n",
              "      <td>-73.986905</td>\n",
              "      <td>31170</td>\n",
              "      <td>Subscriber</td>\n",
              "      <td>1983</td>\n",
              "      <td>1</td>\n",
              "    </tr>\n",
              "    <tr>\n",
              "      <th>1</th>\n",
              "      <td>754</td>\n",
              "      <td>2019-05-01 00:00:03.0210</td>\n",
              "      <td>2019-05-01 00:12:37.6920</td>\n",
              "      <td>3258</td>\n",
              "      <td>W 27 St &amp; 10 Ave</td>\n",
              "      <td>40.750182</td>\n",
              "      <td>-74.002184</td>\n",
              "      <td>3255</td>\n",
              "      <td>8 Ave &amp; W 31 St</td>\n",
              "      <td>40.750585</td>\n",
              "      <td>-73.994685</td>\n",
              "      <td>25560</td>\n",
              "      <td>Customer</td>\n",
              "      <td>1969</td>\n",
              "      <td>0</td>\n",
              "    </tr>\n",
              "    <tr>\n",
              "      <th>2</th>\n",
              "      <td>2308</td>\n",
              "      <td>2019-05-01 00:00:04.6270</td>\n",
              "      <td>2019-05-01 00:38:33.1710</td>\n",
              "      <td>3093</td>\n",
              "      <td>N 6 St &amp; Bedford Ave</td>\n",
              "      <td>40.717452</td>\n",
              "      <td>-73.958509</td>\n",
              "      <td>3676</td>\n",
              "      <td>Van Brunt St &amp; Van Dyke St</td>\n",
              "      <td>40.675833</td>\n",
              "      <td>-74.014726</td>\n",
              "      <td>33369</td>\n",
              "      <td>Subscriber</td>\n",
              "      <td>1978</td>\n",
              "      <td>1</td>\n",
              "    </tr>\n",
              "    <tr>\n",
              "      <th>3</th>\n",
              "      <td>143</td>\n",
              "      <td>2019-05-01 00:00:19.3340</td>\n",
              "      <td>2019-05-01 00:02:42.5200</td>\n",
              "      <td>3486</td>\n",
              "      <td>Schermerhorn St &amp; Bond St</td>\n",
              "      <td>40.688417</td>\n",
              "      <td>-73.984517</td>\n",
              "      <td>3412</td>\n",
              "      <td>Pacific St &amp; Nevins St</td>\n",
              "      <td>40.685376</td>\n",
              "      <td>-73.983021</td>\n",
              "      <td>32041</td>\n",
              "      <td>Subscriber</td>\n",
              "      <td>1997</td>\n",
              "      <td>1</td>\n",
              "    </tr>\n",
              "    <tr>\n",
              "      <th>4</th>\n",
              "      <td>138</td>\n",
              "      <td>2019-05-01 00:00:22.1840</td>\n",
              "      <td>2019-05-01 00:02:40.6480</td>\n",
              "      <td>388</td>\n",
              "      <td>W 26 St &amp; 10 Ave</td>\n",
              "      <td>40.749718</td>\n",
              "      <td>-74.002950</td>\n",
              "      <td>494</td>\n",
              "      <td>W 26 St &amp; 8 Ave</td>\n",
              "      <td>40.747348</td>\n",
              "      <td>-73.997236</td>\n",
              "      <td>35237</td>\n",
              "      <td>Subscriber</td>\n",
              "      <td>1967</td>\n",
              "      <td>1</td>\n",
              "    </tr>\n",
              "    <tr>\n",
              "      <th>...</th>\n",
              "      <td>...</td>\n",
              "      <td>...</td>\n",
              "      <td>...</td>\n",
              "      <td>...</td>\n",
              "      <td>...</td>\n",
              "      <td>...</td>\n",
              "      <td>...</td>\n",
              "      <td>...</td>\n",
              "      <td>...</td>\n",
              "      <td>...</td>\n",
              "      <td>...</td>\n",
              "      <td>...</td>\n",
              "      <td>...</td>\n",
              "      <td>...</td>\n",
              "      <td>...</td>\n",
              "    </tr>\n",
              "    <tr>\n",
              "      <th>999995</th>\n",
              "      <td>1688</td>\n",
              "      <td>2019-05-18 10:43:11.5260</td>\n",
              "      <td>2019-05-18 11:11:20.5010</td>\n",
              "      <td>525</td>\n",
              "      <td>W 34 St &amp; 11 Ave</td>\n",
              "      <td>40.755942</td>\n",
              "      <td>-74.002116</td>\n",
              "      <td>3178</td>\n",
              "      <td>Riverside Dr &amp; W 78 St</td>\n",
              "      <td>40.784145</td>\n",
              "      <td>-73.983625</td>\n",
              "      <td>25733</td>\n",
              "      <td>Customer</td>\n",
              "      <td>1969</td>\n",
              "      <td>0</td>\n",
              "    </tr>\n",
              "    <tr>\n",
              "      <th>999996</th>\n",
              "      <td>804</td>\n",
              "      <td>2019-05-18 10:43:12.1750</td>\n",
              "      <td>2019-05-18 10:56:37.0660</td>\n",
              "      <td>3576</td>\n",
              "      <td>Park Pl &amp; Vanderbilt Ave</td>\n",
              "      <td>40.676700</td>\n",
              "      <td>-73.969024</td>\n",
              "      <td>157</td>\n",
              "      <td>Henry St &amp; Atlantic Ave</td>\n",
              "      <td>40.690893</td>\n",
              "      <td>-73.996123</td>\n",
              "      <td>29920</td>\n",
              "      <td>Subscriber</td>\n",
              "      <td>1981</td>\n",
              "      <td>1</td>\n",
              "    </tr>\n",
              "    <tr>\n",
              "      <th>999997</th>\n",
              "      <td>150</td>\n",
              "      <td>2019-05-18 10:43:12.6190</td>\n",
              "      <td>2019-05-18 10:45:42.7890</td>\n",
              "      <td>416</td>\n",
              "      <td>Cumberland St &amp; Lafayette Ave</td>\n",
              "      <td>40.687534</td>\n",
              "      <td>-73.972652</td>\n",
              "      <td>262</td>\n",
              "      <td>Washington Park</td>\n",
              "      <td>40.691782</td>\n",
              "      <td>-73.973730</td>\n",
              "      <td>18835</td>\n",
              "      <td>Subscriber</td>\n",
              "      <td>1971</td>\n",
              "      <td>1</td>\n",
              "    </tr>\n",
              "    <tr>\n",
              "      <th>999998</th>\n",
              "      <td>345</td>\n",
              "      <td>2019-05-18 10:43:13.2630</td>\n",
              "      <td>2019-05-18 10:48:58.7550</td>\n",
              "      <td>296</td>\n",
              "      <td>Division St &amp; Bowery</td>\n",
              "      <td>40.714131</td>\n",
              "      <td>-73.997047</td>\n",
              "      <td>502</td>\n",
              "      <td>Henry St &amp; Grand St</td>\n",
              "      <td>40.714215</td>\n",
              "      <td>-73.981346</td>\n",
              "      <td>34018</td>\n",
              "      <td>Subscriber</td>\n",
              "      <td>1983</td>\n",
              "      <td>1</td>\n",
              "    </tr>\n",
              "    <tr>\n",
              "      <th>999999</th>\n",
              "      <td>1413</td>\n",
              "      <td>2019-05-18 10:43:13.8940</td>\n",
              "      <td>2019-05-18 11:06:47.5840</td>\n",
              "      <td>3528</td>\n",
              "      <td>Steinway St &amp; 23 Ave</td>\n",
              "      <td>40.771394</td>\n",
              "      <td>-73.907744</td>\n",
              "      <td>3126</td>\n",
              "      <td>44 Dr &amp; Jackson Ave</td>\n",
              "      <td>40.747182</td>\n",
              "      <td>-73.943264</td>\n",
              "      <td>14576</td>\n",
              "      <td>Subscriber</td>\n",
              "      <td>1980</td>\n",
              "      <td>1</td>\n",
              "    </tr>\n",
              "  </tbody>\n",
              "</table>\n",
              "<p>1000000 rows × 15 columns</p>\n",
              "</div>\n",
              "    <div class=\"colab-df-buttons\">\n",
              "\n",
              "  <div class=\"colab-df-container\">\n",
              "    <button class=\"colab-df-convert\" onclick=\"convertToInteractive('df-887d5bbb-7d03-4513-a4b1-257aa1d49ecb')\"\n",
              "            title=\"Convert this dataframe to an interactive table.\"\n",
              "            style=\"display:none;\">\n",
              "\n",
              "  <svg xmlns=\"http://www.w3.org/2000/svg\" height=\"24px\" viewBox=\"0 -960 960 960\">\n",
              "    <path d=\"M120-120v-720h720v720H120Zm60-500h600v-160H180v160Zm220 220h160v-160H400v160Zm0 220h160v-160H400v160ZM180-400h160v-160H180v160Zm440 0h160v-160H620v160ZM180-180h160v-160H180v160Zm440 0h160v-160H620v160Z\"/>\n",
              "  </svg>\n",
              "    </button>\n",
              "\n",
              "  <style>\n",
              "    .colab-df-container {\n",
              "      display:flex;\n",
              "      gap: 12px;\n",
              "    }\n",
              "\n",
              "    .colab-df-convert {\n",
              "      background-color: #E8F0FE;\n",
              "      border: none;\n",
              "      border-radius: 50%;\n",
              "      cursor: pointer;\n",
              "      display: none;\n",
              "      fill: #1967D2;\n",
              "      height: 32px;\n",
              "      padding: 0 0 0 0;\n",
              "      width: 32px;\n",
              "    }\n",
              "\n",
              "    .colab-df-convert:hover {\n",
              "      background-color: #E2EBFA;\n",
              "      box-shadow: 0px 1px 2px rgba(60, 64, 67, 0.3), 0px 1px 3px 1px rgba(60, 64, 67, 0.15);\n",
              "      fill: #174EA6;\n",
              "    }\n",
              "\n",
              "    .colab-df-buttons div {\n",
              "      margin-bottom: 4px;\n",
              "    }\n",
              "\n",
              "    [theme=dark] .colab-df-convert {\n",
              "      background-color: #3B4455;\n",
              "      fill: #D2E3FC;\n",
              "    }\n",
              "\n",
              "    [theme=dark] .colab-df-convert:hover {\n",
              "      background-color: #434B5C;\n",
              "      box-shadow: 0px 1px 3px 1px rgba(0, 0, 0, 0.15);\n",
              "      filter: drop-shadow(0px 1px 2px rgba(0, 0, 0, 0.3));\n",
              "      fill: #FFFFFF;\n",
              "    }\n",
              "  </style>\n",
              "\n",
              "    <script>\n",
              "      const buttonEl =\n",
              "        document.querySelector('#df-887d5bbb-7d03-4513-a4b1-257aa1d49ecb button.colab-df-convert');\n",
              "      buttonEl.style.display =\n",
              "        google.colab.kernel.accessAllowed ? 'block' : 'none';\n",
              "\n",
              "      async function convertToInteractive(key) {\n",
              "        const element = document.querySelector('#df-887d5bbb-7d03-4513-a4b1-257aa1d49ecb');\n",
              "        const dataTable =\n",
              "          await google.colab.kernel.invokeFunction('convertToInteractive',\n",
              "                                                    [key], {});\n",
              "        if (!dataTable) return;\n",
              "\n",
              "        const docLinkHtml = 'Like what you see? Visit the ' +\n",
              "          '<a target=\"_blank\" href=https://colab.research.google.com/notebooks/data_table.ipynb>data table notebook</a>'\n",
              "          + ' to learn more about interactive tables.';\n",
              "        element.innerHTML = '';\n",
              "        dataTable['output_type'] = 'display_data';\n",
              "        await google.colab.output.renderOutput(dataTable, element);\n",
              "        const docLink = document.createElement('div');\n",
              "        docLink.innerHTML = docLinkHtml;\n",
              "        element.appendChild(docLink);\n",
              "      }\n",
              "    </script>\n",
              "  </div>\n",
              "\n",
              "\n",
              "<div id=\"df-9ce6fe8a-1d40-4927-8e0f-51dc79a4c7e2\">\n",
              "  <button class=\"colab-df-quickchart\" onclick=\"quickchart('df-9ce6fe8a-1d40-4927-8e0f-51dc79a4c7e2')\"\n",
              "            title=\"Suggest charts\"\n",
              "            style=\"display:none;\">\n",
              "\n",
              "<svg xmlns=\"http://www.w3.org/2000/svg\" height=\"24px\"viewBox=\"0 0 24 24\"\n",
              "     width=\"24px\">\n",
              "    <g>\n",
              "        <path d=\"M19 3H5c-1.1 0-2 .9-2 2v14c0 1.1.9 2 2 2h14c1.1 0 2-.9 2-2V5c0-1.1-.9-2-2-2zM9 17H7v-7h2v7zm4 0h-2V7h2v10zm4 0h-2v-4h2v4z\"/>\n",
              "    </g>\n",
              "</svg>\n",
              "  </button>\n",
              "\n",
              "<style>\n",
              "  .colab-df-quickchart {\n",
              "      --bg-color: #E8F0FE;\n",
              "      --fill-color: #1967D2;\n",
              "      --hover-bg-color: #E2EBFA;\n",
              "      --hover-fill-color: #174EA6;\n",
              "      --disabled-fill-color: #AAA;\n",
              "      --disabled-bg-color: #DDD;\n",
              "  }\n",
              "\n",
              "  [theme=dark] .colab-df-quickchart {\n",
              "      --bg-color: #3B4455;\n",
              "      --fill-color: #D2E3FC;\n",
              "      --hover-bg-color: #434B5C;\n",
              "      --hover-fill-color: #FFFFFF;\n",
              "      --disabled-bg-color: #3B4455;\n",
              "      --disabled-fill-color: #666;\n",
              "  }\n",
              "\n",
              "  .colab-df-quickchart {\n",
              "    background-color: var(--bg-color);\n",
              "    border: none;\n",
              "    border-radius: 50%;\n",
              "    cursor: pointer;\n",
              "    display: none;\n",
              "    fill: var(--fill-color);\n",
              "    height: 32px;\n",
              "    padding: 0;\n",
              "    width: 32px;\n",
              "  }\n",
              "\n",
              "  .colab-df-quickchart:hover {\n",
              "    background-color: var(--hover-bg-color);\n",
              "    box-shadow: 0 1px 2px rgba(60, 64, 67, 0.3), 0 1px 3px 1px rgba(60, 64, 67, 0.15);\n",
              "    fill: var(--button-hover-fill-color);\n",
              "  }\n",
              "\n",
              "  .colab-df-quickchart-complete:disabled,\n",
              "  .colab-df-quickchart-complete:disabled:hover {\n",
              "    background-color: var(--disabled-bg-color);\n",
              "    fill: var(--disabled-fill-color);\n",
              "    box-shadow: none;\n",
              "  }\n",
              "\n",
              "  .colab-df-spinner {\n",
              "    border: 2px solid var(--fill-color);\n",
              "    border-color: transparent;\n",
              "    border-bottom-color: var(--fill-color);\n",
              "    animation:\n",
              "      spin 1s steps(1) infinite;\n",
              "  }\n",
              "\n",
              "  @keyframes spin {\n",
              "    0% {\n",
              "      border-color: transparent;\n",
              "      border-bottom-color: var(--fill-color);\n",
              "      border-left-color: var(--fill-color);\n",
              "    }\n",
              "    20% {\n",
              "      border-color: transparent;\n",
              "      border-left-color: var(--fill-color);\n",
              "      border-top-color: var(--fill-color);\n",
              "    }\n",
              "    30% {\n",
              "      border-color: transparent;\n",
              "      border-left-color: var(--fill-color);\n",
              "      border-top-color: var(--fill-color);\n",
              "      border-right-color: var(--fill-color);\n",
              "    }\n",
              "    40% {\n",
              "      border-color: transparent;\n",
              "      border-right-color: var(--fill-color);\n",
              "      border-top-color: var(--fill-color);\n",
              "    }\n",
              "    60% {\n",
              "      border-color: transparent;\n",
              "      border-right-color: var(--fill-color);\n",
              "    }\n",
              "    80% {\n",
              "      border-color: transparent;\n",
              "      border-right-color: var(--fill-color);\n",
              "      border-bottom-color: var(--fill-color);\n",
              "    }\n",
              "    90% {\n",
              "      border-color: transparent;\n",
              "      border-bottom-color: var(--fill-color);\n",
              "    }\n",
              "  }\n",
              "</style>\n",
              "\n",
              "  <script>\n",
              "    async function quickchart(key) {\n",
              "      const quickchartButtonEl =\n",
              "        document.querySelector('#' + key + ' button');\n",
              "      quickchartButtonEl.disabled = true;  // To prevent multiple clicks.\n",
              "      quickchartButtonEl.classList.add('colab-df-spinner');\n",
              "      try {\n",
              "        const charts = await google.colab.kernel.invokeFunction(\n",
              "            'suggestCharts', [key], {});\n",
              "      } catch (error) {\n",
              "        console.error('Error during call to suggestCharts:', error);\n",
              "      }\n",
              "      quickchartButtonEl.classList.remove('colab-df-spinner');\n",
              "      quickchartButtonEl.classList.add('colab-df-quickchart-complete');\n",
              "    }\n",
              "    (() => {\n",
              "      let quickchartButtonEl =\n",
              "        document.querySelector('#df-9ce6fe8a-1d40-4927-8e0f-51dc79a4c7e2 button');\n",
              "      quickchartButtonEl.style.display =\n",
              "        google.colab.kernel.accessAllowed ? 'block' : 'none';\n",
              "    })();\n",
              "  </script>\n",
              "</div>\n",
              "\n",
              "  <div id=\"id_b4b8f71c-bfb8-462c-9163-8d2cd49d39a5\">\n",
              "    <style>\n",
              "      .colab-df-generate {\n",
              "        background-color: #E8F0FE;\n",
              "        border: none;\n",
              "        border-radius: 50%;\n",
              "        cursor: pointer;\n",
              "        display: none;\n",
              "        fill: #1967D2;\n",
              "        height: 32px;\n",
              "        padding: 0 0 0 0;\n",
              "        width: 32px;\n",
              "      }\n",
              "\n",
              "      .colab-df-generate:hover {\n",
              "        background-color: #E2EBFA;\n",
              "        box-shadow: 0px 1px 2px rgba(60, 64, 67, 0.3), 0px 1px 3px 1px rgba(60, 64, 67, 0.15);\n",
              "        fill: #174EA6;\n",
              "      }\n",
              "\n",
              "      [theme=dark] .colab-df-generate {\n",
              "        background-color: #3B4455;\n",
              "        fill: #D2E3FC;\n",
              "      }\n",
              "\n",
              "      [theme=dark] .colab-df-generate:hover {\n",
              "        background-color: #434B5C;\n",
              "        box-shadow: 0px 1px 3px 1px rgba(0, 0, 0, 0.15);\n",
              "        filter: drop-shadow(0px 1px 2px rgba(0, 0, 0, 0.3));\n",
              "        fill: #FFFFFF;\n",
              "      }\n",
              "    </style>\n",
              "    <button class=\"colab-df-generate\" onclick=\"generateWithVariable('cbMay19')\"\n",
              "            title=\"Generate code using this dataframe.\"\n",
              "            style=\"display:none;\">\n",
              "\n",
              "  <svg xmlns=\"http://www.w3.org/2000/svg\" height=\"24px\"viewBox=\"0 0 24 24\"\n",
              "       width=\"24px\">\n",
              "    <path d=\"M7,19H8.4L18.45,9,17,7.55,7,17.6ZM5,21V16.75L18.45,3.32a2,2,0,0,1,2.83,0l1.4,1.43a1.91,1.91,0,0,1,.58,1.4,1.91,1.91,0,0,1-.58,1.4L9.25,21ZM18.45,9,17,7.55Zm-12,3A5.31,5.31,0,0,0,4.9,8.1,5.31,5.31,0,0,0,1,6.5,5.31,5.31,0,0,0,4.9,4.9,5.31,5.31,0,0,0,6.5,1,5.31,5.31,0,0,0,8.1,4.9,5.31,5.31,0,0,0,12,6.5,5.46,5.46,0,0,0,6.5,12Z\"/>\n",
              "  </svg>\n",
              "    </button>\n",
              "    <script>\n",
              "      (() => {\n",
              "      const buttonEl =\n",
              "        document.querySelector('#id_b4b8f71c-bfb8-462c-9163-8d2cd49d39a5 button.colab-df-generate');\n",
              "      buttonEl.style.display =\n",
              "        google.colab.kernel.accessAllowed ? 'block' : 'none';\n",
              "\n",
              "      buttonEl.onclick = () => {\n",
              "        google.colab.notebook.generateWithVariable('cbMay19');\n",
              "      }\n",
              "      })();\n",
              "    </script>\n",
              "  </div>\n",
              "\n",
              "    </div>\n",
              "  </div>\n"
            ],
            "application/vnd.google.colaboratory.intrinsic+json": {
              "type": "dataframe",
              "variable_name": "cbMay19"
            }
          },
          "metadata": {},
          "execution_count": 43
        }
      ]
    },
    {
      "cell_type": "code",
      "metadata": {
        "id": "oFCbtqm_c3UY",
        "colab": {
          "base_uri": "https://localhost:8080/"
        },
        "outputId": "b0845e69-8b18-4c0d-cc2f-a33d08f6b607"
      },
      "source": [
        "cbMay19.columns"
      ],
      "execution_count": 32,
      "outputs": [
        {
          "output_type": "execute_result",
          "data": {
            "text/plain": [
              "Index(['tripduration', 'starttime', 'stoptime', 'start station id',\n",
              "       'start station name', 'start station latitude',\n",
              "       'start station longitude', 'end station id', 'end station name',\n",
              "       'end station latitude', 'end station longitude', 'bikeid', 'usertype',\n",
              "       'birth year', 'gender'],\n",
              "      dtype='object')"
            ]
          },
          "metadata": {},
          "execution_count": 32
        }
      ]
    },
    {
      "cell_type": "markdown",
      "source": [
        "The proportation of trip duration among subscriber is significantly higher than the trip duration of customer for month of May 2019.\n",
        "\n",
        "H0  :  tripduration<=subscriber\n",
        "H1  :  subscriber>customer\n",
        "\n",
        "\n",
        "# _$H_1$_\n",
        "\n",
        "\n",
        "# _$H_1$_ : $\\frac{S_{\\mathrm{tripduration}}}{S_{\\mathrm{total}}} > \\frac{C_{\\ {tripduration}}}{C_{\\mathrm{total}}}$\n",
        "\n",
        "# _$H_0$_ : $\\frac{S_{\\mathrm{tripduration}}}{S_{\\mathrm{total}}} <= \\frac{C_{\\ {tripduration}}}{C_{\\mathrm{total}}}$\n",
        "\n",
        "We will use a significance level  α=0.05\n",
        "which means we want the probability of getting a result at least as significant as mine to be less then 5%"
      ],
      "metadata": {
        "id": "q6TINIqh-1-m"
      }
    },
    {
      "cell_type": "code",
      "metadata": {
        "id": "kAkhVwZKc3Uc"
      },
      "source": [
        "#clean up\n",
        "cbMay19.drop(['starttime', 'stoptime', 'start station id',\n",
        "       'start station name', 'start station latitude',\n",
        "       'start station longitude', 'end station id', 'end station name',\n",
        "       'end station latitude', 'end station longitude', 'bikeid',\n",
        "       'birth year', 'gender'], axis=1, inplace=True)"
      ],
      "execution_count": 44,
      "outputs": []
    },
    {
      "cell_type": "code",
      "metadata": {
        "id": "muiMvWLac3Ui",
        "colab": {
          "base_uri": "https://localhost:8080/",
          "height": 206
        },
        "outputId": "3f5a23e9-2106-4cf0-e6cc-8f2ca487c378"
      },
      "source": [
        "cbMay19.head()"
      ],
      "execution_count": 45,
      "outputs": [
        {
          "output_type": "execute_result",
          "data": {
            "text/plain": [
              "   tripduration    usertype\n",
              "0           139  Subscriber\n",
              "1           754    Customer\n",
              "2          2308  Subscriber\n",
              "3           143  Subscriber\n",
              "4           138  Subscriber"
            ],
            "text/html": [
              "\n",
              "  <div id=\"df-798e5757-82d5-4d2a-88e7-49047c187412\" class=\"colab-df-container\">\n",
              "    <div>\n",
              "<style scoped>\n",
              "    .dataframe tbody tr th:only-of-type {\n",
              "        vertical-align: middle;\n",
              "    }\n",
              "\n",
              "    .dataframe tbody tr th {\n",
              "        vertical-align: top;\n",
              "    }\n",
              "\n",
              "    .dataframe thead th {\n",
              "        text-align: right;\n",
              "    }\n",
              "</style>\n",
              "<table border=\"1\" class=\"dataframe\">\n",
              "  <thead>\n",
              "    <tr style=\"text-align: right;\">\n",
              "      <th></th>\n",
              "      <th>tripduration</th>\n",
              "      <th>usertype</th>\n",
              "    </tr>\n",
              "  </thead>\n",
              "  <tbody>\n",
              "    <tr>\n",
              "      <th>0</th>\n",
              "      <td>139</td>\n",
              "      <td>Subscriber</td>\n",
              "    </tr>\n",
              "    <tr>\n",
              "      <th>1</th>\n",
              "      <td>754</td>\n",
              "      <td>Customer</td>\n",
              "    </tr>\n",
              "    <tr>\n",
              "      <th>2</th>\n",
              "      <td>2308</td>\n",
              "      <td>Subscriber</td>\n",
              "    </tr>\n",
              "    <tr>\n",
              "      <th>3</th>\n",
              "      <td>143</td>\n",
              "      <td>Subscriber</td>\n",
              "    </tr>\n",
              "    <tr>\n",
              "      <th>4</th>\n",
              "      <td>138</td>\n",
              "      <td>Subscriber</td>\n",
              "    </tr>\n",
              "  </tbody>\n",
              "</table>\n",
              "</div>\n",
              "    <div class=\"colab-df-buttons\">\n",
              "\n",
              "  <div class=\"colab-df-container\">\n",
              "    <button class=\"colab-df-convert\" onclick=\"convertToInteractive('df-798e5757-82d5-4d2a-88e7-49047c187412')\"\n",
              "            title=\"Convert this dataframe to an interactive table.\"\n",
              "            style=\"display:none;\">\n",
              "\n",
              "  <svg xmlns=\"http://www.w3.org/2000/svg\" height=\"24px\" viewBox=\"0 -960 960 960\">\n",
              "    <path d=\"M120-120v-720h720v720H120Zm60-500h600v-160H180v160Zm220 220h160v-160H400v160Zm0 220h160v-160H400v160ZM180-400h160v-160H180v160Zm440 0h160v-160H620v160ZM180-180h160v-160H180v160Zm440 0h160v-160H620v160Z\"/>\n",
              "  </svg>\n",
              "    </button>\n",
              "\n",
              "  <style>\n",
              "    .colab-df-container {\n",
              "      display:flex;\n",
              "      gap: 12px;\n",
              "    }\n",
              "\n",
              "    .colab-df-convert {\n",
              "      background-color: #E8F0FE;\n",
              "      border: none;\n",
              "      border-radius: 50%;\n",
              "      cursor: pointer;\n",
              "      display: none;\n",
              "      fill: #1967D2;\n",
              "      height: 32px;\n",
              "      padding: 0 0 0 0;\n",
              "      width: 32px;\n",
              "    }\n",
              "\n",
              "    .colab-df-convert:hover {\n",
              "      background-color: #E2EBFA;\n",
              "      box-shadow: 0px 1px 2px rgba(60, 64, 67, 0.3), 0px 1px 3px 1px rgba(60, 64, 67, 0.15);\n",
              "      fill: #174EA6;\n",
              "    }\n",
              "\n",
              "    .colab-df-buttons div {\n",
              "      margin-bottom: 4px;\n",
              "    }\n",
              "\n",
              "    [theme=dark] .colab-df-convert {\n",
              "      background-color: #3B4455;\n",
              "      fill: #D2E3FC;\n",
              "    }\n",
              "\n",
              "    [theme=dark] .colab-df-convert:hover {\n",
              "      background-color: #434B5C;\n",
              "      box-shadow: 0px 1px 3px 1px rgba(0, 0, 0, 0.15);\n",
              "      filter: drop-shadow(0px 1px 2px rgba(0, 0, 0, 0.3));\n",
              "      fill: #FFFFFF;\n",
              "    }\n",
              "  </style>\n",
              "\n",
              "    <script>\n",
              "      const buttonEl =\n",
              "        document.querySelector('#df-798e5757-82d5-4d2a-88e7-49047c187412 button.colab-df-convert');\n",
              "      buttonEl.style.display =\n",
              "        google.colab.kernel.accessAllowed ? 'block' : 'none';\n",
              "\n",
              "      async function convertToInteractive(key) {\n",
              "        const element = document.querySelector('#df-798e5757-82d5-4d2a-88e7-49047c187412');\n",
              "        const dataTable =\n",
              "          await google.colab.kernel.invokeFunction('convertToInteractive',\n",
              "                                                    [key], {});\n",
              "        if (!dataTable) return;\n",
              "\n",
              "        const docLinkHtml = 'Like what you see? Visit the ' +\n",
              "          '<a target=\"_blank\" href=https://colab.research.google.com/notebooks/data_table.ipynb>data table notebook</a>'\n",
              "          + ' to learn more about interactive tables.';\n",
              "        element.innerHTML = '';\n",
              "        dataTable['output_type'] = 'display_data';\n",
              "        await google.colab.output.renderOutput(dataTable, element);\n",
              "        const docLink = document.createElement('div');\n",
              "        docLink.innerHTML = docLinkHtml;\n",
              "        element.appendChild(docLink);\n",
              "      }\n",
              "    </script>\n",
              "  </div>\n",
              "\n",
              "\n",
              "<div id=\"df-cc0822d3-f633-416d-bcfb-1f67c2f133ba\">\n",
              "  <button class=\"colab-df-quickchart\" onclick=\"quickchart('df-cc0822d3-f633-416d-bcfb-1f67c2f133ba')\"\n",
              "            title=\"Suggest charts\"\n",
              "            style=\"display:none;\">\n",
              "\n",
              "<svg xmlns=\"http://www.w3.org/2000/svg\" height=\"24px\"viewBox=\"0 0 24 24\"\n",
              "     width=\"24px\">\n",
              "    <g>\n",
              "        <path d=\"M19 3H5c-1.1 0-2 .9-2 2v14c0 1.1.9 2 2 2h14c1.1 0 2-.9 2-2V5c0-1.1-.9-2-2-2zM9 17H7v-7h2v7zm4 0h-2V7h2v10zm4 0h-2v-4h2v4z\"/>\n",
              "    </g>\n",
              "</svg>\n",
              "  </button>\n",
              "\n",
              "<style>\n",
              "  .colab-df-quickchart {\n",
              "      --bg-color: #E8F0FE;\n",
              "      --fill-color: #1967D2;\n",
              "      --hover-bg-color: #E2EBFA;\n",
              "      --hover-fill-color: #174EA6;\n",
              "      --disabled-fill-color: #AAA;\n",
              "      --disabled-bg-color: #DDD;\n",
              "  }\n",
              "\n",
              "  [theme=dark] .colab-df-quickchart {\n",
              "      --bg-color: #3B4455;\n",
              "      --fill-color: #D2E3FC;\n",
              "      --hover-bg-color: #434B5C;\n",
              "      --hover-fill-color: #FFFFFF;\n",
              "      --disabled-bg-color: #3B4455;\n",
              "      --disabled-fill-color: #666;\n",
              "  }\n",
              "\n",
              "  .colab-df-quickchart {\n",
              "    background-color: var(--bg-color);\n",
              "    border: none;\n",
              "    border-radius: 50%;\n",
              "    cursor: pointer;\n",
              "    display: none;\n",
              "    fill: var(--fill-color);\n",
              "    height: 32px;\n",
              "    padding: 0;\n",
              "    width: 32px;\n",
              "  }\n",
              "\n",
              "  .colab-df-quickchart:hover {\n",
              "    background-color: var(--hover-bg-color);\n",
              "    box-shadow: 0 1px 2px rgba(60, 64, 67, 0.3), 0 1px 3px 1px rgba(60, 64, 67, 0.15);\n",
              "    fill: var(--button-hover-fill-color);\n",
              "  }\n",
              "\n",
              "  .colab-df-quickchart-complete:disabled,\n",
              "  .colab-df-quickchart-complete:disabled:hover {\n",
              "    background-color: var(--disabled-bg-color);\n",
              "    fill: var(--disabled-fill-color);\n",
              "    box-shadow: none;\n",
              "  }\n",
              "\n",
              "  .colab-df-spinner {\n",
              "    border: 2px solid var(--fill-color);\n",
              "    border-color: transparent;\n",
              "    border-bottom-color: var(--fill-color);\n",
              "    animation:\n",
              "      spin 1s steps(1) infinite;\n",
              "  }\n",
              "\n",
              "  @keyframes spin {\n",
              "    0% {\n",
              "      border-color: transparent;\n",
              "      border-bottom-color: var(--fill-color);\n",
              "      border-left-color: var(--fill-color);\n",
              "    }\n",
              "    20% {\n",
              "      border-color: transparent;\n",
              "      border-left-color: var(--fill-color);\n",
              "      border-top-color: var(--fill-color);\n",
              "    }\n",
              "    30% {\n",
              "      border-color: transparent;\n",
              "      border-left-color: var(--fill-color);\n",
              "      border-top-color: var(--fill-color);\n",
              "      border-right-color: var(--fill-color);\n",
              "    }\n",
              "    40% {\n",
              "      border-color: transparent;\n",
              "      border-right-color: var(--fill-color);\n",
              "      border-top-color: var(--fill-color);\n",
              "    }\n",
              "    60% {\n",
              "      border-color: transparent;\n",
              "      border-right-color: var(--fill-color);\n",
              "    }\n",
              "    80% {\n",
              "      border-color: transparent;\n",
              "      border-right-color: var(--fill-color);\n",
              "      border-bottom-color: var(--fill-color);\n",
              "    }\n",
              "    90% {\n",
              "      border-color: transparent;\n",
              "      border-bottom-color: var(--fill-color);\n",
              "    }\n",
              "  }\n",
              "</style>\n",
              "\n",
              "  <script>\n",
              "    async function quickchart(key) {\n",
              "      const quickchartButtonEl =\n",
              "        document.querySelector('#' + key + ' button');\n",
              "      quickchartButtonEl.disabled = true;  // To prevent multiple clicks.\n",
              "      quickchartButtonEl.classList.add('colab-df-spinner');\n",
              "      try {\n",
              "        const charts = await google.colab.kernel.invokeFunction(\n",
              "            'suggestCharts', [key], {});\n",
              "      } catch (error) {\n",
              "        console.error('Error during call to suggestCharts:', error);\n",
              "      }\n",
              "      quickchartButtonEl.classList.remove('colab-df-spinner');\n",
              "      quickchartButtonEl.classList.add('colab-df-quickchart-complete');\n",
              "    }\n",
              "    (() => {\n",
              "      let quickchartButtonEl =\n",
              "        document.querySelector('#df-cc0822d3-f633-416d-bcfb-1f67c2f133ba button');\n",
              "      quickchartButtonEl.style.display =\n",
              "        google.colab.kernel.accessAllowed ? 'block' : 'none';\n",
              "    })();\n",
              "  </script>\n",
              "</div>\n",
              "\n",
              "    </div>\n",
              "  </div>\n"
            ],
            "application/vnd.google.colaboratory.intrinsic+json": {
              "type": "dataframe",
              "variable_name": "cbMay19"
            }
          },
          "metadata": {},
          "execution_count": 45
        }
      ]
    },
    {
      "cell_type": "code",
      "source": [
        "cbMay19['usertype'].type()"
      ],
      "metadata": {
        "id": "H-KLi36QLhc8",
        "outputId": "5c7a506e-3d06-47b5-aa22-e24ffd3f5e36",
        "colab": {
          "base_uri": "https://localhost:8080/",
          "height": 263
        }
      },
      "execution_count": 60,
      "outputs": [
        {
          "output_type": "error",
          "ename": "AttributeError",
          "evalue": "'Series' object has no attribute 'type'",
          "traceback": [
            "\u001b[0;31m---------------------------------------------------------------------------\u001b[0m",
            "\u001b[0;31mAttributeError\u001b[0m                            Traceback (most recent call last)",
            "\u001b[0;32m<ipython-input-60-aaa30fde76f6>\u001b[0m in \u001b[0;36m<cell line: 1>\u001b[0;34m()\u001b[0m\n\u001b[0;32m----> 1\u001b[0;31m \u001b[0mcbMay19\u001b[0m \u001b[0;34m[\u001b[0m\u001b[0;34m'usertype'\u001b[0m\u001b[0;34m]\u001b[0m\u001b[0;34m.\u001b[0m\u001b[0mtype\u001b[0m\u001b[0;34m(\u001b[0m\u001b[0;34m)\u001b[0m\u001b[0;34m\u001b[0m\u001b[0;34m\u001b[0m\u001b[0m\n\u001b[0m",
            "\u001b[0;32m/usr/local/lib/python3.10/dist-packages/pandas/core/generic.py\u001b[0m in \u001b[0;36m__getattr__\u001b[0;34m(self, name)\u001b[0m\n\u001b[1;32m   6202\u001b[0m         ):\n\u001b[1;32m   6203\u001b[0m             \u001b[0;32mreturn\u001b[0m \u001b[0mself\u001b[0m\u001b[0;34m[\u001b[0m\u001b[0mname\u001b[0m\u001b[0;34m]\u001b[0m\u001b[0;34m\u001b[0m\u001b[0;34m\u001b[0m\u001b[0m\n\u001b[0;32m-> 6204\u001b[0;31m         \u001b[0;32mreturn\u001b[0m \u001b[0mobject\u001b[0m\u001b[0;34m.\u001b[0m\u001b[0m__getattribute__\u001b[0m\u001b[0;34m(\u001b[0m\u001b[0mself\u001b[0m\u001b[0;34m,\u001b[0m \u001b[0mname\u001b[0m\u001b[0;34m)\u001b[0m\u001b[0;34m\u001b[0m\u001b[0;34m\u001b[0m\u001b[0m\n\u001b[0m\u001b[1;32m   6205\u001b[0m \u001b[0;34m\u001b[0m\u001b[0m\n\u001b[1;32m   6206\u001b[0m     \u001b[0;34m@\u001b[0m\u001b[0mfinal\u001b[0m\u001b[0;34m\u001b[0m\u001b[0;34m\u001b[0m\u001b[0m\n",
            "\u001b[0;31mAttributeError\u001b[0m: 'Series' object has no attribute 'type'"
          ]
        }
      ]
    },
    {
      "cell_type": "markdown",
      "metadata": {
        "id": "MNdxEpGHc3Uy"
      },
      "source": [
        "### Lets separate males (_m) from females (_w) to test the hypotheses.\n",
        "### In this csv file gender == 1 is male, gender == 2 is female (0 is missing value)\n",
        "\n",
        "### Lets plot the number of trips per week day"
      ]
    },
    {
      "cell_type": "code",
      "metadata": {
        "id": "OdRcsrlNc3U5",
        "colab": {
          "base_uri": "https://localhost:8080/",
          "height": 797
        },
        "outputId": "aa2fbb12-fc44-403f-be5d-5f3ec20069ff"
      },
      "source": [
        "#instad of plotting with matplotlib i.e. plot() i use the plot method in pandas\n",
        "\n",
        "cbMay19_S = cbMay19[cbMay19['usertype'] == 1].drop([\"usertype\"], axis=1)\n",
        "counts_S = cbMay19_S['tripduration']\n",
        "\n",
        "ax = counts_S.plot(kind=\"bar\", color='IndianRed',label='Subscriber')\n",
        "\n",
        "cbMay19_C = cbMay19[cbMay19['usertype'] == 2].drop([\"usertype\"], axis=1)\n",
        "counts_C = cbMay19_C['tripduration']\n",
        "\n",
        "ax = counts_C.plot(kind=\"bar\",\n",
        "                                                                        color='SteelBlue',\n",
        "                                                                        alpha=0.5,\n",
        "                                                                        label='Customer', ax=ax)\n",
        "\n",
        "\n",
        "plt.legend();\n",
        "plt.title(\"trip duration by user type, May/2019\");\n",
        "plt.ylabel(\"trip duration\");\n",
        "\n",
        "\n",
        "ax1 = counts_S.plot(kind=\"bar\", color='IndianRed', label='Subscriber')\n",
        "ax2 = counts_C.plot(kind=\"bar\", color='SteelBlue', alpha=0.5, label='Customer')"
      ],
      "execution_count": 55,
      "outputs": [
        {
          "output_type": "error",
          "ename": "IndexError",
          "evalue": "index 0 is out of bounds for axis 0 with size 0",
          "traceback": [
            "\u001b[0;31m---------------------------------------------------------------------------\u001b[0m",
            "\u001b[0;31mIndexError\u001b[0m                                Traceback (most recent call last)",
            "\u001b[0;32m<ipython-input-55-56a9b0ce2d26>\u001b[0m in \u001b[0;36m<cell line: 6>\u001b[0;34m()\u001b[0m\n\u001b[1;32m      4\u001b[0m \u001b[0mcounts_S\u001b[0m \u001b[0;34m=\u001b[0m \u001b[0mcbMay19_S\u001b[0m\u001b[0;34m[\u001b[0m\u001b[0;34m'tripduration'\u001b[0m\u001b[0;34m]\u001b[0m\u001b[0;34m\u001b[0m\u001b[0;34m\u001b[0m\u001b[0m\n\u001b[1;32m      5\u001b[0m \u001b[0;34m\u001b[0m\u001b[0m\n\u001b[0;32m----> 6\u001b[0;31m \u001b[0max\u001b[0m \u001b[0;34m=\u001b[0m \u001b[0mcounts_S\u001b[0m\u001b[0;34m.\u001b[0m\u001b[0mplot\u001b[0m\u001b[0;34m(\u001b[0m\u001b[0mkind\u001b[0m\u001b[0;34m=\u001b[0m\u001b[0;34m\"bar\"\u001b[0m\u001b[0;34m,\u001b[0m \u001b[0mcolor\u001b[0m\u001b[0;34m=\u001b[0m\u001b[0;34m'IndianRed'\u001b[0m\u001b[0;34m,\u001b[0m\u001b[0mlabel\u001b[0m\u001b[0;34m=\u001b[0m\u001b[0;34m'Subscriber'\u001b[0m\u001b[0;34m)\u001b[0m\u001b[0;34m\u001b[0m\u001b[0;34m\u001b[0m\u001b[0m\n\u001b[0m\u001b[1;32m      7\u001b[0m \u001b[0;34m\u001b[0m\u001b[0m\n\u001b[1;32m      8\u001b[0m \u001b[0mcbMay19_C\u001b[0m \u001b[0;34m=\u001b[0m \u001b[0mcbMay19\u001b[0m\u001b[0;34m[\u001b[0m\u001b[0mcbMay19\u001b[0m\u001b[0;34m[\u001b[0m\u001b[0;34m'usertype'\u001b[0m\u001b[0;34m]\u001b[0m \u001b[0;34m==\u001b[0m \u001b[0;36m2\u001b[0m\u001b[0;34m]\u001b[0m\u001b[0;34m.\u001b[0m\u001b[0mdrop\u001b[0m\u001b[0;34m(\u001b[0m\u001b[0;34m[\u001b[0m\u001b[0;34m\"usertype\"\u001b[0m\u001b[0;34m]\u001b[0m\u001b[0;34m,\u001b[0m \u001b[0maxis\u001b[0m\u001b[0;34m=\u001b[0m\u001b[0;36m1\u001b[0m\u001b[0;34m)\u001b[0m\u001b[0;34m\u001b[0m\u001b[0;34m\u001b[0m\u001b[0m\n",
            "\u001b[0;32m/usr/local/lib/python3.10/dist-packages/pandas/plotting/_core.py\u001b[0m in \u001b[0;36m__call__\u001b[0;34m(self, *args, **kwargs)\u001b[0m\n\u001b[1;32m   1029\u001b[0m                     \u001b[0mdata\u001b[0m\u001b[0;34m.\u001b[0m\u001b[0mcolumns\u001b[0m \u001b[0;34m=\u001b[0m \u001b[0mlabel_name\u001b[0m\u001b[0;34m\u001b[0m\u001b[0;34m\u001b[0m\u001b[0m\n\u001b[1;32m   1030\u001b[0m \u001b[0;34m\u001b[0m\u001b[0m\n\u001b[0;32m-> 1031\u001b[0;31m         \u001b[0;32mreturn\u001b[0m \u001b[0mplot_backend\u001b[0m\u001b[0;34m.\u001b[0m\u001b[0mplot\u001b[0m\u001b[0;34m(\u001b[0m\u001b[0mdata\u001b[0m\u001b[0;34m,\u001b[0m \u001b[0mkind\u001b[0m\u001b[0;34m=\u001b[0m\u001b[0mkind\u001b[0m\u001b[0;34m,\u001b[0m \u001b[0;34m**\u001b[0m\u001b[0mkwargs\u001b[0m\u001b[0;34m)\u001b[0m\u001b[0;34m\u001b[0m\u001b[0;34m\u001b[0m\u001b[0m\n\u001b[0m\u001b[1;32m   1032\u001b[0m \u001b[0;34m\u001b[0m\u001b[0m\n\u001b[1;32m   1033\u001b[0m     \u001b[0m__call__\u001b[0m\u001b[0;34m.\u001b[0m\u001b[0m__doc__\u001b[0m \u001b[0;34m=\u001b[0m \u001b[0m__doc__\u001b[0m\u001b[0;34m\u001b[0m\u001b[0;34m\u001b[0m\u001b[0m\n",
            "\u001b[0;32m/usr/local/lib/python3.10/dist-packages/pandas/plotting/_matplotlib/__init__.py\u001b[0m in \u001b[0;36mplot\u001b[0;34m(data, kind, **kwargs)\u001b[0m\n\u001b[1;32m     69\u001b[0m             \u001b[0mkwargs\u001b[0m\u001b[0;34m[\u001b[0m\u001b[0;34m\"ax\"\u001b[0m\u001b[0;34m]\u001b[0m \u001b[0;34m=\u001b[0m \u001b[0mgetattr\u001b[0m\u001b[0;34m(\u001b[0m\u001b[0max\u001b[0m\u001b[0;34m,\u001b[0m \u001b[0;34m\"left_ax\"\u001b[0m\u001b[0;34m,\u001b[0m \u001b[0max\u001b[0m\u001b[0;34m)\u001b[0m\u001b[0;34m\u001b[0m\u001b[0;34m\u001b[0m\u001b[0m\n\u001b[1;32m     70\u001b[0m     \u001b[0mplot_obj\u001b[0m \u001b[0;34m=\u001b[0m \u001b[0mPLOT_CLASSES\u001b[0m\u001b[0;34m[\u001b[0m\u001b[0mkind\u001b[0m\u001b[0;34m]\u001b[0m\u001b[0;34m(\u001b[0m\u001b[0mdata\u001b[0m\u001b[0;34m,\u001b[0m \u001b[0;34m**\u001b[0m\u001b[0mkwargs\u001b[0m\u001b[0;34m)\u001b[0m\u001b[0;34m\u001b[0m\u001b[0;34m\u001b[0m\u001b[0m\n\u001b[0;32m---> 71\u001b[0;31m     \u001b[0mplot_obj\u001b[0m\u001b[0;34m.\u001b[0m\u001b[0mgenerate\u001b[0m\u001b[0;34m(\u001b[0m\u001b[0;34m)\u001b[0m\u001b[0;34m\u001b[0m\u001b[0;34m\u001b[0m\u001b[0m\n\u001b[0m\u001b[1;32m     72\u001b[0m     \u001b[0mplot_obj\u001b[0m\u001b[0;34m.\u001b[0m\u001b[0mdraw\u001b[0m\u001b[0;34m(\u001b[0m\u001b[0;34m)\u001b[0m\u001b[0;34m\u001b[0m\u001b[0;34m\u001b[0m\u001b[0m\n\u001b[1;32m     73\u001b[0m     \u001b[0;32mreturn\u001b[0m \u001b[0mplot_obj\u001b[0m\u001b[0;34m.\u001b[0m\u001b[0mresult\u001b[0m\u001b[0;34m\u001b[0m\u001b[0;34m\u001b[0m\u001b[0m\n",
            "\u001b[0;32m/usr/local/lib/python3.10/dist-packages/pandas/plotting/_matplotlib/core.py\u001b[0m in \u001b[0;36mgenerate\u001b[0;34m(self)\u001b[0m\n\u001b[1;32m    458\u001b[0m         \u001b[0;32mfor\u001b[0m \u001b[0max\u001b[0m \u001b[0;32min\u001b[0m \u001b[0mself\u001b[0m\u001b[0;34m.\u001b[0m\u001b[0maxes\u001b[0m\u001b[0;34m:\u001b[0m\u001b[0;34m\u001b[0m\u001b[0;34m\u001b[0m\u001b[0m\n\u001b[1;32m    459\u001b[0m             \u001b[0mself\u001b[0m\u001b[0;34m.\u001b[0m\u001b[0m_post_plot_logic_common\u001b[0m\u001b[0;34m(\u001b[0m\u001b[0max\u001b[0m\u001b[0;34m,\u001b[0m \u001b[0mself\u001b[0m\u001b[0;34m.\u001b[0m\u001b[0mdata\u001b[0m\u001b[0;34m)\u001b[0m\u001b[0;34m\u001b[0m\u001b[0;34m\u001b[0m\u001b[0m\n\u001b[0;32m--> 460\u001b[0;31m             \u001b[0mself\u001b[0m\u001b[0;34m.\u001b[0m\u001b[0m_post_plot_logic\u001b[0m\u001b[0;34m(\u001b[0m\u001b[0max\u001b[0m\u001b[0;34m,\u001b[0m \u001b[0mself\u001b[0m\u001b[0;34m.\u001b[0m\u001b[0mdata\u001b[0m\u001b[0;34m)\u001b[0m\u001b[0;34m\u001b[0m\u001b[0;34m\u001b[0m\u001b[0m\n\u001b[0m\u001b[1;32m    461\u001b[0m \u001b[0;34m\u001b[0m\u001b[0m\n\u001b[1;32m    462\u001b[0m     \u001b[0;34m@\u001b[0m\u001b[0mabstractmethod\u001b[0m\u001b[0;34m\u001b[0m\u001b[0;34m\u001b[0m\u001b[0m\n",
            "\u001b[0;32m/usr/local/lib/python3.10/dist-packages/pandas/plotting/_matplotlib/core.py\u001b[0m in \u001b[0;36m_post_plot_logic\u001b[0;34m(self, ax, data)\u001b[0m\n\u001b[1;32m   1755\u001b[0m             \u001b[0mstr_index\u001b[0m \u001b[0;34m=\u001b[0m \u001b[0;34m[\u001b[0m\u001b[0mpprint_thing\u001b[0m\u001b[0;34m(\u001b[0m\u001b[0mkey\u001b[0m\u001b[0;34m)\u001b[0m \u001b[0;32mfor\u001b[0m \u001b[0mkey\u001b[0m \u001b[0;32min\u001b[0m \u001b[0mrange\u001b[0m\u001b[0;34m(\u001b[0m\u001b[0mdata\u001b[0m\u001b[0;34m.\u001b[0m\u001b[0mshape\u001b[0m\u001b[0;34m[\u001b[0m\u001b[0;36m0\u001b[0m\u001b[0;34m]\u001b[0m\u001b[0;34m)\u001b[0m\u001b[0;34m]\u001b[0m\u001b[0;34m\u001b[0m\u001b[0;34m\u001b[0m\u001b[0m\n\u001b[1;32m   1756\u001b[0m \u001b[0;34m\u001b[0m\u001b[0m\n\u001b[0;32m-> 1757\u001b[0;31m         \u001b[0ms_edge\u001b[0m \u001b[0;34m=\u001b[0m \u001b[0mself\u001b[0m\u001b[0;34m.\u001b[0m\u001b[0max_pos\u001b[0m\u001b[0;34m[\u001b[0m\u001b[0;36m0\u001b[0m\u001b[0;34m]\u001b[0m \u001b[0;34m-\u001b[0m \u001b[0;36m0.25\u001b[0m \u001b[0;34m+\u001b[0m \u001b[0mself\u001b[0m\u001b[0;34m.\u001b[0m\u001b[0mlim_offset\u001b[0m\u001b[0;34m\u001b[0m\u001b[0;34m\u001b[0m\u001b[0m\n\u001b[0m\u001b[1;32m   1758\u001b[0m         \u001b[0me_edge\u001b[0m \u001b[0;34m=\u001b[0m \u001b[0mself\u001b[0m\u001b[0;34m.\u001b[0m\u001b[0max_pos\u001b[0m\u001b[0;34m[\u001b[0m\u001b[0;34m-\u001b[0m\u001b[0;36m1\u001b[0m\u001b[0;34m]\u001b[0m \u001b[0;34m+\u001b[0m \u001b[0;36m0.25\u001b[0m \u001b[0;34m+\u001b[0m \u001b[0mself\u001b[0m\u001b[0;34m.\u001b[0m\u001b[0mbar_width\u001b[0m \u001b[0;34m+\u001b[0m \u001b[0mself\u001b[0m\u001b[0;34m.\u001b[0m\u001b[0mlim_offset\u001b[0m\u001b[0;34m\u001b[0m\u001b[0;34m\u001b[0m\u001b[0m\n\u001b[1;32m   1759\u001b[0m \u001b[0;34m\u001b[0m\u001b[0m\n",
            "\u001b[0;31mIndexError\u001b[0m: index 0 is out of bounds for axis 0 with size 0"
          ]
        },
        {
          "output_type": "display_data",
          "data": {
            "text/plain": [
              "<Figure size 640x480 with 1 Axes>"
            ],
            "image/png": "[encoded data removed]"
          },
          "metadata": {}
        }
      ]
    },
    {
      "cell_type": "markdown",
      "metadata": {
        "id": "pcfSras_c3U-"
      },
      "source": [
        "## Figure 1a: Distribution of Citibike bikers by gender in May 2019, absolute counts"
      ]
    },
    {
      "cell_type": "code",
      "metadata": {
        "id": "WlgfGw7fc3VC",
        "colab": {
          "base_uri": "https://localhost:8080/"
        },
        "outputId": "ef392d43-5dcd-43f8-d2b1-e83cfe47a61e"
      },
      "source": [
        "\n",
        "norm_w = len(cbMay19_w)\n",
        "error_w = cbMay19_w[\"date\"][cbMay19_w.date.dt.weekday < 5].groupby(cbMay19_w.date.dt.date).count().std()\n",
        "eweekend_w = cbMay19_w[\"date\"][cbMay19_w.date.dt.weekday >= 5].groupby(cbMay19_w.date.dt.date).count().std()\n",
        "norm_w, error_w, eweekend_w"
      ],
      "execution_count": null,
      "outputs": [
        {
          "output_type": "execute_result",
          "data": {
            "text/plain": [
              "(236060, 3986.568378429929, 7469.5742716703735)"
            ]
          },
          "metadata": {},
          "execution_count": 40
        }
      ]
    },
    {
      "cell_type": "code",
      "metadata": {
        "id": "mHj3iV8ZhWi4",
        "colab": {
          "base_uri": "https://localhost:8080/"
        },
        "outputId": "c49b53d1-abe6-435e-a15e-a6de55a7caa7"
      },
      "source": [
        "\n",
        "norm_m = len(cbMay19_m)\n",
        "error_m = cbMay19_m[\"date\"][cbMay19_m.date.dt.weekday < 5].groupby(cbMay19_m.date.dt.date).count().std()\n",
        "eweekend_m = cbMay19_m[\"date\"][cbMay19_m.date.dt.weekday >= 5].groupby(cbMay19_m.date.dt.date).count().std()\n",
        "norm_m, error_m, eweekend_m"
      ],
      "execution_count": null,
      "outputs": [
        {
          "output_type": "execute_result",
          "data": {
            "text/plain": [
              "(695072, 10200.225974746707, 15997.016118639125)"
            ]
          },
          "metadata": {},
          "execution_count": 41
        }
      ]
    },
    {
      "cell_type": "code",
      "metadata": {
        "id": "mS_rU17jhS34",
        "colab": {
          "base_uri": "https://localhost:8080/",
          "height": 496
        },
        "outputId": "790b62da-6447-4a12-9902-5c687e41c31e"
      },
      "source": [
        "ax=((counts_w) / norm_w).plot(kind=\"bar\",color='IndianRed', label='women bikers')\n",
        "(counts_m / norm_m).plot(kind=\"bar\", alpha=0.5,\n",
        "                           color='SteelBlue', label='men bikers', ax=ax)\n",
        "ax.xaxis.set_ticklabels(['Mon','Tue','Wed','Thu','Fri','Sat','Sun'], fontsize=20)\n",
        "ax.set_ylabel (\"Number of rides\")\n",
        "ax.set_xlabel (\"Day of the week\")\n",
        "plt.legend();\n"
      ],
      "execution_count": null,
      "outputs": [
        {
          "output_type": "display_data",
          "data": {
            "text/plain": [
              "<Figure size 640x480 with 1 Axes>"
            ],
            "image/png": "[encoded data removed]"
          },
          "metadata": {}
        }
      ]
    },
    {
      "cell_type": "markdown",
      "metadata": {
        "id": "PpzvA4zMc3VT"
      },
      "source": [
        "## Figure 2: Distribution of Citibike bikers by gender in May 2019, normalized"
      ]
    },
    {
      "cell_type": "markdown",
      "metadata": {
        "id": "HTcHdUwgc3VT"
      },
      "source": [
        "we can add up the weekend days and normalize by the totals, then this becomes a test of proportions, (like the one seen in the [employment notebook](https://github.com/fedhere/UInotebooks/blob/master/hypothesistesting/effectivenes%20of%20NYC%20Post-Prison%20Employment%20Programs.save.ipynb))"
      ]
    },
    {
      "cell_type": "markdown",
      "metadata": {
        "id": "-zeLT9kDc3VU"
      },
      "source": [
        "## Set up the test of proportions\n",
        "### I need the fraction of women that bikes during the weekdays and the fraction that bikes during weekends, and the same for men"
      ]
    },
    {
      "cell_type": "code",
      "metadata": {
        "id": "SuF58t1Nc3VV",
        "colab": {
          "base_uri": "https://localhost:8080/",
          "height": 325
        },
        "outputId": "78c7796e-6676-4adc-e7fb-59b13a175351"
      },
      "source": [
        "fig = plt.figure(figsize=(10,3))\n",
        "ax1 = fig.add_subplot(121)\n",
        "ax2 = fig.add_subplot(122)\n",
        "\n",
        "week_w = sum(counts_w[:-2]) * 1.0 / norm_w  #fraction of women riding on week days\n",
        "weekend_w = sum(counts_w[-2:]) * 1.0 / norm_w  #fraction of women riding on weekends\n",
        "eweek_w = error_w / norm_w  #error on fraction number of women riding on week days\n",
        "eweekend_w = eweekend_w / norm_w #error on fraction number of women riding on weekends\n",
        "\n",
        "#same nomenclature as above\n",
        "week_m = sum(counts_m[:-2]) * 1.0 / norm_m\n",
        "weekend_m = sum(counts_m[-2:]) * 1.0 / norm_m\n",
        "eweek_m= error_m / norm_m  #error on fraction number of men riding on week days\n",
        "eweekend_m = eweekend_m / norm_m #error on fraction number of men riding on weekends\n",
        "\n",
        "print(\"Men: week:{0:.3f}, weekend:{1:.3f}, weekend error:{2:.3f}, weekend error:{3:.3f}\"\\\n",
        "      .format(week_m, weekend_m, eweek_m, eweekend_m))\n",
        "print(\"Women: week:{0:.3f}, weekend:{1:.3f}, weekend error:{2:.3f}, weekend error:{3:.3f}\"\\\n",
        "      .format(week_w, weekend_w, eweek_w, eweekend_w))\n",
        "\n",
        "ax1.errorbar([0.4], [week_m], yerr=[eweek_m], fmt='o', label='men')\n",
        "ax1.errorbar([0.2], [week_w], yerr=[eweek_w], fmt='o', label='women')\n",
        "ax1.set_xlim(0, 0.5)\n",
        "ax2.errorbar([0.4], [weekend_m], yerr=[eweekend_m], fmt='o', label='men')\n",
        "ax2.errorbar([0.2], [weekend_w], yerr=[eweekend_w], fmt='o', label='women')\n",
        "ax1.set_xlim(0, 0.5)\n",
        "ax1.set_title(\"week days\")\n",
        "ax2.set_title(\"weekends\")\n",
        "ax2.set_ylabel(\"Fraction of normalized rides by gender\")\n",
        "ax1.set_ylabel(\"Fraction of normalized rides by gender\")\n",
        "ax1.set_xticks([])\n",
        "ax2.set_xticks([])\n",
        "plt.xlim(-0.5, 1.5)\n",
        "plt.legend();"
      ],
      "execution_count": null,
      "outputs": [
        {
          "output_type": "stream",
          "name": "stdout",
          "text": [
            "Men: week:0.851, weekend:0.149, weekend error:0.015, weekend error:0.023\n",
            "Women: week:0.824, weekend:0.176, weekend error:0.017, weekend error:0.032\n"
          ]
        },
        {
          "output_type": "display_data",
          "data": {
            "text/plain": [
              "<Figure size 1000x300 with 2 Axes>"
            ],
            "image/png": "[encoded data removed]"
          },
          "metadata": {}
        }
      ]
    },
    {
      "cell_type": "markdown",
      "metadata": {
        "id": "_3Ta2efIc3VY"
      },
      "source": [
        "## Figure 3: Fraction of Citibike bikers per gender in May 2019 for week days (left) and weekends (right)"
      ]
    },
    {
      "cell_type": "markdown",
      "metadata": {
        "id": "0CA3MzuQc3VZ"
      },
      "source": [
        "### Is the percentage of women that ride on weekends lower or equal to that of man?\n",
        "## The statistics is:\n",
        "# $z = \\frac{(p_0 - p_1)}{SE} $\n",
        "# $p =\\frac{p_0  n_0 + p_1  n_1}{n_0+n_1}$\n",
        "# $SE = \\sqrt{ p  ( 1 - p )  (\\frac{1}{n_0} + \\frac{1}{n_1}) }$\n",
        "## and in this notation\n",
        "# $p_0 = \\frac{W_{\\mathrm{weekend}}}{W_{\\mathrm{total}}}$\n",
        "### and\n",
        "# $p_1 = \\frac{M_{\\mathrm{weekend}}}{M_{\\mathrm{total}}}$\n"
      ]
    },
    {
      "cell_type": "code",
      "metadata": {
        "id": "6V1HV4Dqc3VZ",
        "colab": {
          "base_uri": "https://localhost:8080/"
        },
        "outputId": "daa774bb-de8b-47a2-daa8-b2c911baad6e"
      },
      "source": [
        "P0mP1 = weekend_w - weekend_m\n",
        "print (\"difference between man and women on weekend: {:.2f}\".format(P0mP1))\n",
        "if P0mP1 <= 0:\n",
        "    # we are done...\n",
        "    print(\"In accordance with Null Hypothesis\")\n",
        "else:\n",
        "    # morework to do\n",
        "    print (\"We must check the significance before we reject the Null Hypothesis\")"
      ],
      "execution_count": null,
      "outputs": [
        {
          "output_type": "stream",
          "name": "stdout",
          "text": [
            "difference between man and women on weekend: 0.03\n",
            "We must check the significance before we reject the Null Hypothesis\n"
          ]
        }
      ]
    },
    {
      "cell_type": "markdown",
      "metadata": {
        "id": "QiCYIssgc3Vc"
      },
      "source": [
        "### Is this difference statistically significant?"
      ]
    },
    {
      "cell_type": "code",
      "metadata": {
        "id": "qhAtxqHjc3Vd",
        "colab": {
          "base_uri": "https://localhost:8080/"
        },
        "outputId": "24be98d3-34ae-427c-844f-029f6e7229db"
      },
      "source": [
        "# defining the functions that calculate the statistics\n",
        "# the lambda style definition is NOT APPROVED BY PEP8 and you should avoind it\n",
        "# but I am putting it here since you may encounter it in your coding life.\n",
        "# confront the equation in the markdown cell above with these function to understand as they work\n",
        "\n",
        "def ztest_p(p0, p1, n0, n1):\n",
        "  return (p0 * n0 + p1 * n1) / (n0 + n1)\n",
        "def ztest_se(p0, p1, n0, n1):\n",
        "  p = ztest_p(p0, p1, n0, n1)\n",
        "  return np.sqrt(p * (1 - p) * (1.0 / n0 + 1.0 / n1)) #standard error\n",
        "def zscore(p0, p1, n0, n1) :\n",
        "  return (p0 - p1) / ztest_se(p0, p1, n0, n1)\n",
        "\n",
        "# calculations\n",
        "\n",
        "z = zscore(weekend_w, weekend_m, norm_w, norm_m)\n",
        "print (\"The z statistics is %.2f\"%z)"
      ],
      "execution_count": null,
      "outputs": [
        {
          "output_type": "stream",
          "name": "stdout",
          "text": [
            "The z statistics is 31.44\n"
          ]
        }
      ]
    },
    {
      "cell_type": "markdown",
      "metadata": {
        "id": "ooW3J7vuc3Vg"
      },
      "source": [
        "## The largest number reported in  z stats tables is (thpically) 3, which gives  a p value\n",
        "## $p <0.0002$, which is smaller then my chosen $\\alpha=0.05$ - so yes, it is statistically significant (by a lot!)"
      ]
    },
    {
      "cell_type": "markdown",
      "metadata": {
        "id": "PvOZWSxwc3Vi"
      },
      "source": [
        "# We reject the Null Hypothesis that man are more likely to commute than women $p< 0.05$\n"
      ]
    },
    {
      "cell_type": "markdown",
      "metadata": {
        "id": "Z0FGKQCec3WY"
      },
      "source": [
        "# Let's check the _effect size_:\n",
        "# there are 2 formulae I find in the literature\n",
        "# $r = \\frac{z}{\\sqrt{(n_0+n_1)}}$\n",
        "# and\n",
        "# $h =  2 (\\arcsin \\sqrt{p_0} -  \\arcsin \\sqrt{p_1} )$. https://en.wikipedia.org/wiki/Cohen%27s_h"
      ]
    },
    {
      "cell_type": "code",
      "metadata": {
        "id": "uqt1K2H1c3WY"
      },
      "source": [
        "def r_effectsize (z, n0, n1) :\n",
        "  return z / np.sqrt(n0 + n0)\n",
        "def h_effectsize (p0, p1):\n",
        "  return 2 * (np.arcsin(np.sqrt(p0)) - np.arcsin(np.sqrt(p1)))"
      ],
      "execution_count": null,
      "outputs": []
    },
    {
      "cell_type": "code",
      "metadata": {
        "id": "4-16b2mRc3Wb",
        "colab": {
          "base_uri": "https://localhost:8080/",
          "height": 34
        },
        "outputId": "50ea27a1-876a-4265-8f5f-8378355224fe"
      },
      "source": [
        "r = r_effectsize(z, norm_w, norm_m)\n",
        "print ('r effect size {:.2f}'.format(r))"
      ],
      "execution_count": null,
      "outputs": [
        {
          "output_type": "stream",
          "text": [
            "r effect size 0.06\n"
          ],
          "name": "stdout"
        }
      ]
    },
    {
      "cell_type": "code",
      "metadata": {
        "id": "mRv9PIAAc3Wd",
        "colab": {
          "base_uri": "https://localhost:8080/",
          "height": 34
        },
        "outputId": "ffd056d2-eddc-4ad9-f166-bd80f45cd6f1"
      },
      "source": [
        "h = h_effectsize(weekend_w, weekend_m)\n",
        "print (\"Cohen's h effect size {:.2f}\".format(h))"
      ],
      "execution_count": null,
      "outputs": [
        {
          "output_type": "stream",
          "text": [
            "Cohen's h effect size 0.09\n"
          ],
          "name": "stdout"
        }
      ]
    },
    {
      "cell_type": "markdown",
      "metadata": {
        "id": "_6DfLh9cc3Wf"
      },
      "source": [
        "# In all these cases we have SMALL EFFECT SIZE"
      ]
    },
    {
      "cell_type": "code",
      "metadata": {
        "id": "FdUeaaLLc3Wf"
      },
      "source": [],
      "execution_count": null,
      "outputs": []
    }
  ]
}